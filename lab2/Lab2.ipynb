{
 "cells": [
  {
   "metadata": {},
   "cell_type": "markdown",
   "source": [
    "# Milan Kovacs\n",
    "## 21308128"
   ],
   "id": "809bc045f2a8c036"
  },
  {
   "cell_type": "code",
   "id": "initial_id",
   "metadata": {
    "collapsed": true,
    "ExecuteTime": {
     "end_time": "2025-02-21T15:14:24.150169Z",
     "start_time": "2025-02-21T15:14:23.788284Z"
    }
   },
   "source": [
    "import pandas as pd\n",
    "import numpy as np\n",
    "from sklearn.preprocessing import RobustScaler\n",
    "import matplotlib.pyplot as plt\n",
    "\n",
    "df = pd.read_csv('bank.csv')\n",
    "df.tail(10)"
   ],
   "outputs": [
    {
     "data": {
      "text/plain": [
       "       age           job   marital  education default  balance housing loan  \\\n",
       "1990  36.0    technician   married   tertiary      no      376      no   no   \n",
       "1991  39.0        admin.  divorced  secondary      no      112      no   no   \n",
       "1992  78.0       retired  divorced    primary      no      527      no   no   \n",
       "1993  35.0    management   married        NaN      no     2326     yes  yes   \n",
       "1994  26.0       student    single  secondary      no      655      no   no   \n",
       "1995  20.0       student    single        NaN      no     2785      no   no   \n",
       "1996  28.0        admin.    single  secondary      no      127      no   no   \n",
       "1997  81.0       retired   married    primary      no     1154      no   no   \n",
       "1998  46.0      services   married    primary      no     4343     yes   no   \n",
       "1999  40.0  entrepreneur   married  secondary      no     6403      no   no   \n",
       "\n",
       "        contact  day month  duration  campaign  pdays  previous poutcome  \\\n",
       "1990   cellular   16   sep       173         1     -1         0      NaN   \n",
       "1991   cellular   16   sep       574         3     -1         0      NaN   \n",
       "1992   cellular   16   sep       193         1     -1         0      NaN   \n",
       "1993   cellular   16   sep       319         1     -1         0      NaN   \n",
       "1994   cellular   16   sep       190         1     -1         0      NaN   \n",
       "1995   cellular   16   sep       327         2     -1         0      NaN   \n",
       "1996   cellular   16   sep      1334         2     -1         0      NaN   \n",
       "1997  telephone   17   sep       231         1     -1         0      NaN   \n",
       "1998        NaN   20   sep       185         1     -1         0      NaN   \n",
       "1999   cellular   22   sep       208         2     -1         0      NaN   \n",
       "\n",
       "     subscribed  \n",
       "1990        yes  \n",
       "1991        yes  \n",
       "1992        yes  \n",
       "1993        yes  \n",
       "1994        yes  \n",
       "1995        yes  \n",
       "1996        yes  \n",
       "1997        yes  \n",
       "1998        yes  \n",
       "1999        yes  "
      ],
      "text/html": [
       "<div>\n",
       "<style scoped>\n",
       "    .dataframe tbody tr th:only-of-type {\n",
       "        vertical-align: middle;\n",
       "    }\n",
       "\n",
       "    .dataframe tbody tr th {\n",
       "        vertical-align: top;\n",
       "    }\n",
       "\n",
       "    .dataframe thead th {\n",
       "        text-align: right;\n",
       "    }\n",
       "</style>\n",
       "<table border=\"1\" class=\"dataframe\">\n",
       "  <thead>\n",
       "    <tr style=\"text-align: right;\">\n",
       "      <th></th>\n",
       "      <th>age</th>\n",
       "      <th>job</th>\n",
       "      <th>marital</th>\n",
       "      <th>education</th>\n",
       "      <th>default</th>\n",
       "      <th>balance</th>\n",
       "      <th>housing</th>\n",
       "      <th>loan</th>\n",
       "      <th>contact</th>\n",
       "      <th>day</th>\n",
       "      <th>month</th>\n",
       "      <th>duration</th>\n",
       "      <th>campaign</th>\n",
       "      <th>pdays</th>\n",
       "      <th>previous</th>\n",
       "      <th>poutcome</th>\n",
       "      <th>subscribed</th>\n",
       "    </tr>\n",
       "  </thead>\n",
       "  <tbody>\n",
       "    <tr>\n",
       "      <th>1990</th>\n",
       "      <td>36.0</td>\n",
       "      <td>technician</td>\n",
       "      <td>married</td>\n",
       "      <td>tertiary</td>\n",
       "      <td>no</td>\n",
       "      <td>376</td>\n",
       "      <td>no</td>\n",
       "      <td>no</td>\n",
       "      <td>cellular</td>\n",
       "      <td>16</td>\n",
       "      <td>sep</td>\n",
       "      <td>173</td>\n",
       "      <td>1</td>\n",
       "      <td>-1</td>\n",
       "      <td>0</td>\n",
       "      <td>NaN</td>\n",
       "      <td>yes</td>\n",
       "    </tr>\n",
       "    <tr>\n",
       "      <th>1991</th>\n",
       "      <td>39.0</td>\n",
       "      <td>admin.</td>\n",
       "      <td>divorced</td>\n",
       "      <td>secondary</td>\n",
       "      <td>no</td>\n",
       "      <td>112</td>\n",
       "      <td>no</td>\n",
       "      <td>no</td>\n",
       "      <td>cellular</td>\n",
       "      <td>16</td>\n",
       "      <td>sep</td>\n",
       "      <td>574</td>\n",
       "      <td>3</td>\n",
       "      <td>-1</td>\n",
       "      <td>0</td>\n",
       "      <td>NaN</td>\n",
       "      <td>yes</td>\n",
       "    </tr>\n",
       "    <tr>\n",
       "      <th>1992</th>\n",
       "      <td>78.0</td>\n",
       "      <td>retired</td>\n",
       "      <td>divorced</td>\n",
       "      <td>primary</td>\n",
       "      <td>no</td>\n",
       "      <td>527</td>\n",
       "      <td>no</td>\n",
       "      <td>no</td>\n",
       "      <td>cellular</td>\n",
       "      <td>16</td>\n",
       "      <td>sep</td>\n",
       "      <td>193</td>\n",
       "      <td>1</td>\n",
       "      <td>-1</td>\n",
       "      <td>0</td>\n",
       "      <td>NaN</td>\n",
       "      <td>yes</td>\n",
       "    </tr>\n",
       "    <tr>\n",
       "      <th>1993</th>\n",
       "      <td>35.0</td>\n",
       "      <td>management</td>\n",
       "      <td>married</td>\n",
       "      <td>NaN</td>\n",
       "      <td>no</td>\n",
       "      <td>2326</td>\n",
       "      <td>yes</td>\n",
       "      <td>yes</td>\n",
       "      <td>cellular</td>\n",
       "      <td>16</td>\n",
       "      <td>sep</td>\n",
       "      <td>319</td>\n",
       "      <td>1</td>\n",
       "      <td>-1</td>\n",
       "      <td>0</td>\n",
       "      <td>NaN</td>\n",
       "      <td>yes</td>\n",
       "    </tr>\n",
       "    <tr>\n",
       "      <th>1994</th>\n",
       "      <td>26.0</td>\n",
       "      <td>student</td>\n",
       "      <td>single</td>\n",
       "      <td>secondary</td>\n",
       "      <td>no</td>\n",
       "      <td>655</td>\n",
       "      <td>no</td>\n",
       "      <td>no</td>\n",
       "      <td>cellular</td>\n",
       "      <td>16</td>\n",
       "      <td>sep</td>\n",
       "      <td>190</td>\n",
       "      <td>1</td>\n",
       "      <td>-1</td>\n",
       "      <td>0</td>\n",
       "      <td>NaN</td>\n",
       "      <td>yes</td>\n",
       "    </tr>\n",
       "    <tr>\n",
       "      <th>1995</th>\n",
       "      <td>20.0</td>\n",
       "      <td>student</td>\n",
       "      <td>single</td>\n",
       "      <td>NaN</td>\n",
       "      <td>no</td>\n",
       "      <td>2785</td>\n",
       "      <td>no</td>\n",
       "      <td>no</td>\n",
       "      <td>cellular</td>\n",
       "      <td>16</td>\n",
       "      <td>sep</td>\n",
       "      <td>327</td>\n",
       "      <td>2</td>\n",
       "      <td>-1</td>\n",
       "      <td>0</td>\n",
       "      <td>NaN</td>\n",
       "      <td>yes</td>\n",
       "    </tr>\n",
       "    <tr>\n",
       "      <th>1996</th>\n",
       "      <td>28.0</td>\n",
       "      <td>admin.</td>\n",
       "      <td>single</td>\n",
       "      <td>secondary</td>\n",
       "      <td>no</td>\n",
       "      <td>127</td>\n",
       "      <td>no</td>\n",
       "      <td>no</td>\n",
       "      <td>cellular</td>\n",
       "      <td>16</td>\n",
       "      <td>sep</td>\n",
       "      <td>1334</td>\n",
       "      <td>2</td>\n",
       "      <td>-1</td>\n",
       "      <td>0</td>\n",
       "      <td>NaN</td>\n",
       "      <td>yes</td>\n",
       "    </tr>\n",
       "    <tr>\n",
       "      <th>1997</th>\n",
       "      <td>81.0</td>\n",
       "      <td>retired</td>\n",
       "      <td>married</td>\n",
       "      <td>primary</td>\n",
       "      <td>no</td>\n",
       "      <td>1154</td>\n",
       "      <td>no</td>\n",
       "      <td>no</td>\n",
       "      <td>telephone</td>\n",
       "      <td>17</td>\n",
       "      <td>sep</td>\n",
       "      <td>231</td>\n",
       "      <td>1</td>\n",
       "      <td>-1</td>\n",
       "      <td>0</td>\n",
       "      <td>NaN</td>\n",
       "      <td>yes</td>\n",
       "    </tr>\n",
       "    <tr>\n",
       "      <th>1998</th>\n",
       "      <td>46.0</td>\n",
       "      <td>services</td>\n",
       "      <td>married</td>\n",
       "      <td>primary</td>\n",
       "      <td>no</td>\n",
       "      <td>4343</td>\n",
       "      <td>yes</td>\n",
       "      <td>no</td>\n",
       "      <td>NaN</td>\n",
       "      <td>20</td>\n",
       "      <td>sep</td>\n",
       "      <td>185</td>\n",
       "      <td>1</td>\n",
       "      <td>-1</td>\n",
       "      <td>0</td>\n",
       "      <td>NaN</td>\n",
       "      <td>yes</td>\n",
       "    </tr>\n",
       "    <tr>\n",
       "      <th>1999</th>\n",
       "      <td>40.0</td>\n",
       "      <td>entrepreneur</td>\n",
       "      <td>married</td>\n",
       "      <td>secondary</td>\n",
       "      <td>no</td>\n",
       "      <td>6403</td>\n",
       "      <td>no</td>\n",
       "      <td>no</td>\n",
       "      <td>cellular</td>\n",
       "      <td>22</td>\n",
       "      <td>sep</td>\n",
       "      <td>208</td>\n",
       "      <td>2</td>\n",
       "      <td>-1</td>\n",
       "      <td>0</td>\n",
       "      <td>NaN</td>\n",
       "      <td>yes</td>\n",
       "    </tr>\n",
       "  </tbody>\n",
       "</table>\n",
       "</div>"
      ]
     },
     "execution_count": 181,
     "metadata": {},
     "output_type": "execute_result"
    }
   ],
   "execution_count": 181
  },
  {
   "metadata": {
    "ExecuteTime": {
     "end_time": "2025-02-21T15:14:24.353686Z",
     "start_time": "2025-02-21T15:14:24.330630Z"
    }
   },
   "cell_type": "code",
   "source": "df.head(10)",
   "id": "ebe947015dbc24ec",
   "outputs": [
    {
     "data": {
      "text/plain": [
       "    age            job   marital  education default  balance housing loan  \\\n",
       "0  32.0     technician    single   tertiary      no      392     yes   no   \n",
       "1  39.0     technician  divorced  secondary      no      688     yes  yes   \n",
       "2  59.0        retired   married  secondary      no     1035     yes  yes   \n",
       "3  47.0    blue-collar   married  secondary      no      398     yes  yes   \n",
       "4  54.0        retired   married  secondary      no     1004     yes   no   \n",
       "5  46.0  self-employed  divorced   tertiary      no      926     yes   no   \n",
       "6  34.0    blue-collar   married  secondary      no     1924     yes  yes   \n",
       "7  45.0       services  divorced  secondary      no      396     yes  yes   \n",
       "8  58.0     management  divorced   tertiary      no      315     yes   no   \n",
       "9  49.0     management  divorced   tertiary      no    20727      no   no   \n",
       "\n",
       "    contact  day month  duration  campaign  pdays  previous poutcome  \\\n",
       "0  cellular    1   apr       957         2    131         2  failure   \n",
       "1  cellular    1   apr       233         2    133         1  failure   \n",
       "2  cellular    1   apr       126         2    239         1  failure   \n",
       "3  cellular    1   apr       274         1    238         2  failure   \n",
       "4  cellular    1   apr       479         1    307         1  failure   \n",
       "5  cellular    1   apr       463         1    133         3  failure   \n",
       "6  cellular    1   apr       161         2    253         1  failure   \n",
       "7  cellular    1   apr       251         4    329         4  failure   \n",
       "8  cellular    1   apr       121         2    135         2  failure   \n",
       "9  cellular    1   apr       285         3    132         2  failure   \n",
       "\n",
       "  subscribed  \n",
       "0         no  \n",
       "1         no  \n",
       "2         no  \n",
       "3         no  \n",
       "4         no  \n",
       "5         no  \n",
       "6         no  \n",
       "7         no  \n",
       "8         no  \n",
       "9         no  "
      ],
      "text/html": [
       "<div>\n",
       "<style scoped>\n",
       "    .dataframe tbody tr th:only-of-type {\n",
       "        vertical-align: middle;\n",
       "    }\n",
       "\n",
       "    .dataframe tbody tr th {\n",
       "        vertical-align: top;\n",
       "    }\n",
       "\n",
       "    .dataframe thead th {\n",
       "        text-align: right;\n",
       "    }\n",
       "</style>\n",
       "<table border=\"1\" class=\"dataframe\">\n",
       "  <thead>\n",
       "    <tr style=\"text-align: right;\">\n",
       "      <th></th>\n",
       "      <th>age</th>\n",
       "      <th>job</th>\n",
       "      <th>marital</th>\n",
       "      <th>education</th>\n",
       "      <th>default</th>\n",
       "      <th>balance</th>\n",
       "      <th>housing</th>\n",
       "      <th>loan</th>\n",
       "      <th>contact</th>\n",
       "      <th>day</th>\n",
       "      <th>month</th>\n",
       "      <th>duration</th>\n",
       "      <th>campaign</th>\n",
       "      <th>pdays</th>\n",
       "      <th>previous</th>\n",
       "      <th>poutcome</th>\n",
       "      <th>subscribed</th>\n",
       "    </tr>\n",
       "  </thead>\n",
       "  <tbody>\n",
       "    <tr>\n",
       "      <th>0</th>\n",
       "      <td>32.0</td>\n",
       "      <td>technician</td>\n",
       "      <td>single</td>\n",
       "      <td>tertiary</td>\n",
       "      <td>no</td>\n",
       "      <td>392</td>\n",
       "      <td>yes</td>\n",
       "      <td>no</td>\n",
       "      <td>cellular</td>\n",
       "      <td>1</td>\n",
       "      <td>apr</td>\n",
       "      <td>957</td>\n",
       "      <td>2</td>\n",
       "      <td>131</td>\n",
       "      <td>2</td>\n",
       "      <td>failure</td>\n",
       "      <td>no</td>\n",
       "    </tr>\n",
       "    <tr>\n",
       "      <th>1</th>\n",
       "      <td>39.0</td>\n",
       "      <td>technician</td>\n",
       "      <td>divorced</td>\n",
       "      <td>secondary</td>\n",
       "      <td>no</td>\n",
       "      <td>688</td>\n",
       "      <td>yes</td>\n",
       "      <td>yes</td>\n",
       "      <td>cellular</td>\n",
       "      <td>1</td>\n",
       "      <td>apr</td>\n",
       "      <td>233</td>\n",
       "      <td>2</td>\n",
       "      <td>133</td>\n",
       "      <td>1</td>\n",
       "      <td>failure</td>\n",
       "      <td>no</td>\n",
       "    </tr>\n",
       "    <tr>\n",
       "      <th>2</th>\n",
       "      <td>59.0</td>\n",
       "      <td>retired</td>\n",
       "      <td>married</td>\n",
       "      <td>secondary</td>\n",
       "      <td>no</td>\n",
       "      <td>1035</td>\n",
       "      <td>yes</td>\n",
       "      <td>yes</td>\n",
       "      <td>cellular</td>\n",
       "      <td>1</td>\n",
       "      <td>apr</td>\n",
       "      <td>126</td>\n",
       "      <td>2</td>\n",
       "      <td>239</td>\n",
       "      <td>1</td>\n",
       "      <td>failure</td>\n",
       "      <td>no</td>\n",
       "    </tr>\n",
       "    <tr>\n",
       "      <th>3</th>\n",
       "      <td>47.0</td>\n",
       "      <td>blue-collar</td>\n",
       "      <td>married</td>\n",
       "      <td>secondary</td>\n",
       "      <td>no</td>\n",
       "      <td>398</td>\n",
       "      <td>yes</td>\n",
       "      <td>yes</td>\n",
       "      <td>cellular</td>\n",
       "      <td>1</td>\n",
       "      <td>apr</td>\n",
       "      <td>274</td>\n",
       "      <td>1</td>\n",
       "      <td>238</td>\n",
       "      <td>2</td>\n",
       "      <td>failure</td>\n",
       "      <td>no</td>\n",
       "    </tr>\n",
       "    <tr>\n",
       "      <th>4</th>\n",
       "      <td>54.0</td>\n",
       "      <td>retired</td>\n",
       "      <td>married</td>\n",
       "      <td>secondary</td>\n",
       "      <td>no</td>\n",
       "      <td>1004</td>\n",
       "      <td>yes</td>\n",
       "      <td>no</td>\n",
       "      <td>cellular</td>\n",
       "      <td>1</td>\n",
       "      <td>apr</td>\n",
       "      <td>479</td>\n",
       "      <td>1</td>\n",
       "      <td>307</td>\n",
       "      <td>1</td>\n",
       "      <td>failure</td>\n",
       "      <td>no</td>\n",
       "    </tr>\n",
       "    <tr>\n",
       "      <th>5</th>\n",
       "      <td>46.0</td>\n",
       "      <td>self-employed</td>\n",
       "      <td>divorced</td>\n",
       "      <td>tertiary</td>\n",
       "      <td>no</td>\n",
       "      <td>926</td>\n",
       "      <td>yes</td>\n",
       "      <td>no</td>\n",
       "      <td>cellular</td>\n",
       "      <td>1</td>\n",
       "      <td>apr</td>\n",
       "      <td>463</td>\n",
       "      <td>1</td>\n",
       "      <td>133</td>\n",
       "      <td>3</td>\n",
       "      <td>failure</td>\n",
       "      <td>no</td>\n",
       "    </tr>\n",
       "    <tr>\n",
       "      <th>6</th>\n",
       "      <td>34.0</td>\n",
       "      <td>blue-collar</td>\n",
       "      <td>married</td>\n",
       "      <td>secondary</td>\n",
       "      <td>no</td>\n",
       "      <td>1924</td>\n",
       "      <td>yes</td>\n",
       "      <td>yes</td>\n",
       "      <td>cellular</td>\n",
       "      <td>1</td>\n",
       "      <td>apr</td>\n",
       "      <td>161</td>\n",
       "      <td>2</td>\n",
       "      <td>253</td>\n",
       "      <td>1</td>\n",
       "      <td>failure</td>\n",
       "      <td>no</td>\n",
       "    </tr>\n",
       "    <tr>\n",
       "      <th>7</th>\n",
       "      <td>45.0</td>\n",
       "      <td>services</td>\n",
       "      <td>divorced</td>\n",
       "      <td>secondary</td>\n",
       "      <td>no</td>\n",
       "      <td>396</td>\n",
       "      <td>yes</td>\n",
       "      <td>yes</td>\n",
       "      <td>cellular</td>\n",
       "      <td>1</td>\n",
       "      <td>apr</td>\n",
       "      <td>251</td>\n",
       "      <td>4</td>\n",
       "      <td>329</td>\n",
       "      <td>4</td>\n",
       "      <td>failure</td>\n",
       "      <td>no</td>\n",
       "    </tr>\n",
       "    <tr>\n",
       "      <th>8</th>\n",
       "      <td>58.0</td>\n",
       "      <td>management</td>\n",
       "      <td>divorced</td>\n",
       "      <td>tertiary</td>\n",
       "      <td>no</td>\n",
       "      <td>315</td>\n",
       "      <td>yes</td>\n",
       "      <td>no</td>\n",
       "      <td>cellular</td>\n",
       "      <td>1</td>\n",
       "      <td>apr</td>\n",
       "      <td>121</td>\n",
       "      <td>2</td>\n",
       "      <td>135</td>\n",
       "      <td>2</td>\n",
       "      <td>failure</td>\n",
       "      <td>no</td>\n",
       "    </tr>\n",
       "    <tr>\n",
       "      <th>9</th>\n",
       "      <td>49.0</td>\n",
       "      <td>management</td>\n",
       "      <td>divorced</td>\n",
       "      <td>tertiary</td>\n",
       "      <td>no</td>\n",
       "      <td>20727</td>\n",
       "      <td>no</td>\n",
       "      <td>no</td>\n",
       "      <td>cellular</td>\n",
       "      <td>1</td>\n",
       "      <td>apr</td>\n",
       "      <td>285</td>\n",
       "      <td>3</td>\n",
       "      <td>132</td>\n",
       "      <td>2</td>\n",
       "      <td>failure</td>\n",
       "      <td>no</td>\n",
       "    </tr>\n",
       "  </tbody>\n",
       "</table>\n",
       "</div>"
      ]
     },
     "execution_count": 182,
     "metadata": {},
     "output_type": "execute_result"
    }
   ],
   "execution_count": 182
  },
  {
   "metadata": {
    "ExecuteTime": {
     "end_time": "2025-02-21T15:14:24.515470Z",
     "start_time": "2025-02-21T15:14:24.492042Z"
    }
   },
   "cell_type": "code",
   "source": "df.isna().sum()",
   "id": "46979a59935d5082",
   "outputs": [
    {
     "data": {
      "text/plain": [
       "age            12\n",
       "job            10\n",
       "marital         0\n",
       "education     104\n",
       "default         0\n",
       "balance         0\n",
       "housing         0\n",
       "loan            0\n",
       "contact       191\n",
       "day             0\n",
       "month           0\n",
       "duration        0\n",
       "campaign        0\n",
       "pdays           0\n",
       "previous        0\n",
       "poutcome      454\n",
       "subscribed      0\n",
       "dtype: int64"
      ]
     },
     "execution_count": 183,
     "metadata": {},
     "output_type": "execute_result"
    }
   ],
   "execution_count": 183
  },
  {
   "metadata": {},
   "cell_type": "markdown",
   "source": "We can see there's a lot of missing values, let's explore it",
   "id": "e8cc42cce95e1140"
  },
  {
   "metadata": {
    "ExecuteTime": {
     "end_time": "2025-02-21T15:14:24.855129Z",
     "start_time": "2025-02-21T15:14:24.826128Z"
    }
   },
   "cell_type": "code",
   "source": [
    "# Deep copy of the dataset\n",
    "df_original = df.copy()\n",
    "print(df_original is df)"
   ],
   "id": "572f3652d2776ee8",
   "outputs": [
    {
     "name": "stdout",
     "output_type": "stream",
     "text": [
      "False\n"
     ]
    }
   ],
   "execution_count": 184
  },
  {
   "metadata": {},
   "cell_type": "markdown",
   "source": "### Mapping",
   "id": "4766f764506e413e"
  },
  {
   "metadata": {
    "ExecuteTime": {
     "end_time": "2025-02-21T15:14:25.233560Z",
     "start_time": "2025-02-21T15:14:25.212138Z"
    }
   },
   "cell_type": "code",
   "source": "df_original['education'].unique()",
   "id": "582a93aeea1a301c",
   "outputs": [
    {
     "data": {
      "text/plain": [
       "array(['tertiary', 'secondary', nan, 'primary'], dtype=object)"
      ]
     },
     "execution_count": 185,
     "metadata": {},
     "output_type": "execute_result"
    }
   ],
   "execution_count": 185
  },
  {
   "metadata": {},
   "cell_type": "markdown",
   "source": "Education has 3 properties, and a nan value",
   "id": "6ab912181c7643d0"
  },
  {
   "metadata": {
    "ExecuteTime": {
     "end_time": "2025-02-21T15:14:25.406277Z",
     "start_time": "2025-02-21T15:14:25.400276Z"
    }
   },
   "cell_type": "code",
   "source": "df['job'].unique()",
   "id": "5d8bce14b5b393ce",
   "outputs": [
    {
     "data": {
      "text/plain": [
       "array(['technician', 'retired', 'blue-collar', 'self-employed',\n",
       "       'services', 'management', 'admin.', 'unemployed', 'student',\n",
       "       'entrepreneur', 'housemaid', nan], dtype=object)"
      ]
     },
     "execution_count": 186,
     "metadata": {},
     "output_type": "execute_result"
    }
   ],
   "execution_count": 186
  },
  {
   "metadata": {},
   "cell_type": "markdown",
   "source": "Job has 11 properties and a nan value. We can map these to integers.",
   "id": "7e4ab91db73626dd"
  },
  {
   "metadata": {
    "ExecuteTime": {
     "end_time": "2025-02-21T15:14:25.634778Z",
     "start_time": "2025-02-21T15:14:25.611511Z"
    }
   },
   "cell_type": "code",
   "source": [
    "job_mapper = {\n",
    "    'technician' : 1,\n",
    "    'retired' : 2,\n",
    "    'blue-collar' : 3,\n",
    "    'self-employed' : 4,\n",
    "    'services' : 5,\n",
    "    'management' : 6,\n",
    "    'admin.' : 7,\n",
    "    'unemployed' : 8,\n",
    "    'student' : 9,\n",
    "    'entrepreneur' : 10,\n",
    "    'housemaid' : 11\n",
    "}\n",
    "\n",
    "df['job'] = df_original['job'].map(job_mapper)\n",
    "df['job']"
   ],
   "id": "f1ac155843367f2",
   "outputs": [
    {
     "data": {
      "text/plain": [
       "0        1.0\n",
       "1        1.0\n",
       "2        2.0\n",
       "3        3.0\n",
       "4        2.0\n",
       "        ... \n",
       "1995     9.0\n",
       "1996     7.0\n",
       "1997     2.0\n",
       "1998     5.0\n",
       "1999    10.0\n",
       "Name: job, Length: 2000, dtype: float64"
      ]
     },
     "execution_count": 187,
     "metadata": {},
     "output_type": "execute_result"
    }
   ],
   "execution_count": 187
  },
  {
   "metadata": {
    "ExecuteTime": {
     "end_time": "2025-02-21T15:14:25.725225Z",
     "start_time": "2025-02-21T15:14:25.711055Z"
    }
   },
   "cell_type": "code",
   "source": [
    "education_mapper = {\n",
    "    \"tertiary\": 3,\n",
    "    \"secondary\": 2,\n",
    "    \"primary\": 1\n",
    "}\n",
    "\n",
    "df['education'] = df_original['education'].map(education_mapper)\n",
    "df['education']"
   ],
   "id": "8ff0ca062ff34018",
   "outputs": [
    {
     "data": {
      "text/plain": [
       "0       3.0\n",
       "1       2.0\n",
       "2       2.0\n",
       "3       2.0\n",
       "4       2.0\n",
       "       ... \n",
       "1995    NaN\n",
       "1996    2.0\n",
       "1997    1.0\n",
       "1998    1.0\n",
       "1999    2.0\n",
       "Name: education, Length: 2000, dtype: float64"
      ]
     },
     "execution_count": 188,
     "metadata": {},
     "output_type": "execute_result"
    }
   ],
   "execution_count": 188
  },
  {
   "metadata": {
    "ExecuteTime": {
     "end_time": "2025-02-21T15:14:25.840764Z",
     "start_time": "2025-02-21T15:14:25.831740Z"
    }
   },
   "cell_type": "code",
   "source": "df['marital'].unique()",
   "id": "c4b3fd687f22bdb4",
   "outputs": [
    {
     "data": {
      "text/plain": [
       "array(['single', 'divorced', 'married'], dtype=object)"
      ]
     },
     "execution_count": 189,
     "metadata": {},
     "output_type": "execute_result"
    }
   ],
   "execution_count": 189
  },
  {
   "metadata": {
    "ExecuteTime": {
     "end_time": "2025-02-21T15:14:26.142241Z",
     "start_time": "2025-02-21T15:14:26.129242Z"
    }
   },
   "cell_type": "code",
   "source": [
    "marital_mapper = {\n",
    "    \"married\": 1,\n",
    "    \"single\": 2,\n",
    "    \"divorced\": 3\n",
    "}\n",
    "\n",
    "df['marital'] = df_original['marital'].map(marital_mapper)\n",
    "df['marital']"
   ],
   "id": "b8af49c2a09a4e51",
   "outputs": [
    {
     "data": {
      "text/plain": [
       "0       2\n",
       "1       3\n",
       "2       1\n",
       "3       1\n",
       "4       1\n",
       "       ..\n",
       "1995    2\n",
       "1996    2\n",
       "1997    1\n",
       "1998    1\n",
       "1999    1\n",
       "Name: marital, Length: 2000, dtype: int64"
      ]
     },
     "execution_count": 190,
     "metadata": {},
     "output_type": "execute_result"
    }
   ],
   "execution_count": 190
  },
  {
   "metadata": {
    "ExecuteTime": {
     "end_time": "2025-02-21T15:14:26.286222Z",
     "start_time": "2025-02-21T15:14:26.278904Z"
    }
   },
   "cell_type": "code",
   "source": "df['contact'].unique()",
   "id": "9d037b4967c4c246",
   "outputs": [
    {
     "data": {
      "text/plain": [
       "array(['cellular', 'telephone', nan], dtype=object)"
      ]
     },
     "execution_count": 191,
     "metadata": {},
     "output_type": "execute_result"
    }
   ],
   "execution_count": 191
  },
  {
   "metadata": {
    "ExecuteTime": {
     "end_time": "2025-02-21T15:14:26.438756Z",
     "start_time": "2025-02-21T15:14:26.429703Z"
    }
   },
   "cell_type": "code",
   "source": [
    "contact_mapper = {\n",
    "    \"cellular\": 1,\n",
    "    \"telephone\": 2,\n",
    "}\n",
    "df['contact'] = df_original['contact'].map(contact_mapper)\n",
    "df['contact']"
   ],
   "id": "33a59e58b6dec01c",
   "outputs": [
    {
     "data": {
      "text/plain": [
       "0       1.0\n",
       "1       1.0\n",
       "2       1.0\n",
       "3       1.0\n",
       "4       1.0\n",
       "       ... \n",
       "1995    1.0\n",
       "1996    1.0\n",
       "1997    2.0\n",
       "1998    NaN\n",
       "1999    1.0\n",
       "Name: contact, Length: 2000, dtype: float64"
      ]
     },
     "execution_count": 192,
     "metadata": {},
     "output_type": "execute_result"
    }
   ],
   "execution_count": 192
  },
  {
   "metadata": {},
   "cell_type": "markdown",
   "source": [
    "### Poutcome\n",
    "According to the site, the success measure of previous marketing campaign."
   ],
   "id": "47037950f86a7c8b"
  },
  {
   "metadata": {
    "ExecuteTime": {
     "end_time": "2025-02-21T15:14:26.627250Z",
     "start_time": "2025-02-21T15:14:26.620857Z"
    }
   },
   "cell_type": "code",
   "source": "df_original['poutcome'].unique()\n",
   "id": "fef80ef8ffc932c5",
   "outputs": [
    {
     "data": {
      "text/plain": [
       "array(['failure', 'other', 'success', nan], dtype=object)"
      ]
     },
     "execution_count": 193,
     "metadata": {},
     "output_type": "execute_result"
    }
   ],
   "execution_count": 193
  },
  {
   "metadata": {},
   "cell_type": "markdown",
   "source": "We can see that where `previous` is 0 there is NaN `poutcome`. We can map this to 3, which means that the `poutcome` is unknown because they haven't been contacted.",
   "id": "5b5c2667960b5c6"
  },
  {
   "metadata": {
    "ExecuteTime": {
     "end_time": "2025-02-21T15:14:28.307711Z",
     "start_time": "2025-02-21T15:14:28.289290Z"
    }
   },
   "cell_type": "code",
   "source": [
    "contact_mapper = {'failure': 1, 'other': 2, 'success': 3, 'unavailable': 4}\n",
    "df['poutcome'] = df_original['poutcome'].fillna('unavailable')\n",
    "df['poutcome'] = df['poutcome'].map(contact_mapper)\n",
    "df['poutcome'].unique()"
   ],
   "id": "72ad8685cc69178d",
   "outputs": [
    {
     "data": {
      "text/plain": [
       "array([1, 2, 3, 4], dtype=int64)"
      ]
     },
     "execution_count": 194,
     "metadata": {},
     "output_type": "execute_result"
    }
   ],
   "execution_count": 194
  },
  {
   "metadata": {
    "ExecuteTime": {
     "end_time": "2025-02-21T15:14:28.564775Z",
     "start_time": "2025-02-21T15:14:28.555767Z"
    }
   },
   "cell_type": "code",
   "source": "df['poutcome'].isna().sum()\n",
   "id": "a764677d0dd5c638",
   "outputs": [
    {
     "data": {
      "text/plain": [
       "0"
      ]
     },
     "execution_count": 195,
     "metadata": {},
     "output_type": "execute_result"
    }
   ],
   "execution_count": 195
  },
  {
   "metadata": {},
   "cell_type": "markdown",
   "source": "## Filling out the missing values for age, job, education, contact",
   "id": "1505e663abf6f4"
  },
  {
   "metadata": {
    "ExecuteTime": {
     "end_time": "2025-02-21T15:14:29.347630Z",
     "start_time": "2025-02-21T15:14:28.644917Z"
    }
   },
   "cell_type": "code",
   "source": [
    "# For age, we can do some filling out given a trend in the box plot\n",
    "# Let's look at the maritial status and education\n",
    "boxplot = df.boxplot(column='age', by='marital', rot=45)\n",
    "boxplot.set_xticklabels(df['marital'].unique())\n",
    "\n",
    "plt.title(\"\")\n",
    "plt.show()\n",
    "\n"
   ],
   "id": "3e14e4981fedd449",
   "outputs": [
    {
     "data": {
      "text/plain": [
       "<Figure size 640x480 with 1 Axes>"
      ],
      "image/png": "[encoded data removed]"
     },
     "metadata": {},
     "output_type": "display_data"
    }
   ],
   "execution_count": 196
  },
  {
   "metadata": {
    "ExecuteTime": {
     "end_time": "2025-02-21T15:14:29.612622Z",
     "start_time": "2025-02-21T15:14:29.382212Z"
    }
   },
   "cell_type": "code",
   "source": [
    "df.boxplot(column='age', by='education', rot=45)\n",
    "plt.title(\"\")\n",
    "plt.show()"
   ],
   "id": "2d4b4fad08be75f2",
   "outputs": [
    {
     "data": {
      "text/plain": [
       "<Figure size 640x480 with 1 Axes>"
      ],
      "image/png": "[encoded data removed]"
     },
     "metadata": {},
     "output_type": "display_data"
    }
   ],
   "execution_count": 197
  },
  {
   "metadata": {},
   "cell_type": "markdown",
   "source": "We can see there's a different median age for both the different education and martial status groups. We impute  the missing values from these groups.",
   "id": "ec93f67ef2fcd2a5"
  },
  {
   "metadata": {
    "ExecuteTime": {
     "end_time": "2025-02-21T15:14:29.696495Z",
     "start_time": "2025-02-21T15:14:29.656144Z"
    }
   },
   "cell_type": "code",
   "source": [
    "# Impute the missing age from the education and marital status groups\n",
    "df['age'] = df.groupby(['education', 'marital'])['age'].transform(lambda x: x.fillna(x.median())) # Try eduction and marital status first\n",
    "df['age'] = df.groupby('marital')['age'].transform(lambda x: x.fillna(x.median())) # Any other remaining missing values with just median of marital status\n",
    "df['age'].isna().sum()"
   ],
   "id": "95cd5d4b48706f6c",
   "outputs": [
    {
     "data": {
      "text/plain": [
       "0"
      ]
     },
     "execution_count": 198,
     "metadata": {},
     "output_type": "execute_result"
    }
   ],
   "execution_count": 198
  },
  {
   "metadata": {},
   "cell_type": "markdown",
   "source": "### Imputing education from job",
   "id": "4851b5672cad4c86"
  },
  {
   "metadata": {
    "ExecuteTime": {
     "end_time": "2025-02-21T15:14:30.177450Z",
     "start_time": "2025-02-21T15:14:29.789274Z"
    }
   },
   "cell_type": "code",
   "source": [
    "df.boxplot(column='job', by='education', rot=45)\n",
    "plt.title(\"\")\n",
    "plt.show()"
   ],
   "id": "461c521e3caf5eb1",
   "outputs": [
    {
     "data": {
      "text/plain": [
       "<Figure size 640x480 with 1 Axes>"
      ],
      "image/png": "[encoded data removed]"
     },
     "metadata": {},
     "output_type": "display_data"
    }
   ],
   "execution_count": 199
  },
  {
   "metadata": {
    "ExecuteTime": {
     "end_time": "2025-02-21T15:14:30.233539Z",
     "start_time": "2025-02-21T15:14:30.209461Z"
    }
   },
   "cell_type": "code",
   "source": [
    "df['education'].fillna(df.groupby('job')['education'].transform(lambda x: x.median()), inplace=True)\n",
    "df['education'].fillna(df['education'].median(), inplace=True)\n",
    "df['education'].isna().sum()"
   ],
   "id": "375dba84c2b65509",
   "outputs": [
    {
     "name": "stderr",
     "output_type": "stream",
     "text": [
      "C:\\Users\\kmila\\AppData\\Local\\Temp\\ipykernel_18360\\10502919.py:1: FutureWarning: A value is trying to be set on a copy of a DataFrame or Series through chained assignment using an inplace method.\n",
      "The behavior will change in pandas 3.0. This inplace method will never work because the intermediate object on which we are setting values always behaves as a copy.\n",
      "\n",
      "For example, when doing 'df[col].method(value, inplace=True)', try using 'df.method({col: value}, inplace=True)' or df[col] = df[col].method(value) instead, to perform the operation inplace on the original object.\n",
      "\n",
      "\n",
      "  df['education'].fillna(df.groupby('job')['education'].transform(lambda x: x.median()), inplace=True)\n",
      "C:\\Users\\kmila\\AppData\\Local\\Temp\\ipykernel_18360\\10502919.py:2: FutureWarning: A value is trying to be set on a copy of a DataFrame or Series through chained assignment using an inplace method.\n",
      "The behavior will change in pandas 3.0. This inplace method will never work because the intermediate object on which we are setting values always behaves as a copy.\n",
      "\n",
      "For example, when doing 'df[col].method(value, inplace=True)', try using 'df.method({col: value}, inplace=True)' or df[col] = df[col].method(value) instead, to perform the operation inplace on the original object.\n",
      "\n",
      "\n",
      "  df['education'].fillna(df['education'].median(), inplace=True)\n"
     ]
    },
    {
     "data": {
      "text/plain": [
       "0"
      ]
     },
     "execution_count": 200,
     "metadata": {},
     "output_type": "execute_result"
    }
   ],
   "execution_count": 200
  },
  {
   "metadata": {},
   "cell_type": "markdown",
   "source": "## Impute job and contact",
   "id": "e53d063f4919ac81"
  },
  {
   "metadata": {
    "ExecuteTime": {
     "end_time": "2025-02-21T15:14:30.421691Z",
     "start_time": "2025-02-21T15:14:30.379877Z"
    }
   },
   "cell_type": "code",
   "source": "df.head(10)",
   "id": "98e2be4695e7f891",
   "outputs": [
    {
     "data": {
      "text/plain": [
       "    age  job  marital  education default  balance housing loan  contact  day  \\\n",
       "0  32.0  1.0        2        3.0      no      392     yes   no      1.0    1   \n",
       "1  39.0  1.0        3        2.0      no      688     yes  yes      1.0    1   \n",
       "2  59.0  2.0        1        2.0      no     1035     yes  yes      1.0    1   \n",
       "3  47.0  3.0        1        2.0      no      398     yes  yes      1.0    1   \n",
       "4  54.0  2.0        1        2.0      no     1004     yes   no      1.0    1   \n",
       "5  46.0  4.0        3        3.0      no      926     yes   no      1.0    1   \n",
       "6  34.0  3.0        1        2.0      no     1924     yes  yes      1.0    1   \n",
       "7  45.0  5.0        3        2.0      no      396     yes  yes      1.0    1   \n",
       "8  58.0  6.0        3        3.0      no      315     yes   no      1.0    1   \n",
       "9  49.0  6.0        3        3.0      no    20727      no   no      1.0    1   \n",
       "\n",
       "  month  duration  campaign  pdays  previous  poutcome subscribed  \n",
       "0   apr       957         2    131         2         1         no  \n",
       "1   apr       233         2    133         1         1         no  \n",
       "2   apr       126         2    239         1         1         no  \n",
       "3   apr       274         1    238         2         1         no  \n",
       "4   apr       479         1    307         1         1         no  \n",
       "5   apr       463         1    133         3         1         no  \n",
       "6   apr       161         2    253         1         1         no  \n",
       "7   apr       251         4    329         4         1         no  \n",
       "8   apr       121         2    135         2         1         no  \n",
       "9   apr       285         3    132         2         1         no  "
      ],
      "text/html": [
       "<div>\n",
       "<style scoped>\n",
       "    .dataframe tbody tr th:only-of-type {\n",
       "        vertical-align: middle;\n",
       "    }\n",
       "\n",
       "    .dataframe tbody tr th {\n",
       "        vertical-align: top;\n",
       "    }\n",
       "\n",
       "    .dataframe thead th {\n",
       "        text-align: right;\n",
       "    }\n",
       "</style>\n",
       "<table border=\"1\" class=\"dataframe\">\n",
       "  <thead>\n",
       "    <tr style=\"text-align: right;\">\n",
       "      <th></th>\n",
       "      <th>age</th>\n",
       "      <th>job</th>\n",
       "      <th>marital</th>\n",
       "      <th>education</th>\n",
       "      <th>default</th>\n",
       "      <th>balance</th>\n",
       "      <th>housing</th>\n",
       "      <th>loan</th>\n",
       "      <th>contact</th>\n",
       "      <th>day</th>\n",
       "      <th>month</th>\n",
       "      <th>duration</th>\n",
       "      <th>campaign</th>\n",
       "      <th>pdays</th>\n",
       "      <th>previous</th>\n",
       "      <th>poutcome</th>\n",
       "      <th>subscribed</th>\n",
       "    </tr>\n",
       "  </thead>\n",
       "  <tbody>\n",
       "    <tr>\n",
       "      <th>0</th>\n",
       "      <td>32.0</td>\n",
       "      <td>1.0</td>\n",
       "      <td>2</td>\n",
       "      <td>3.0</td>\n",
       "      <td>no</td>\n",
       "      <td>392</td>\n",
       "      <td>yes</td>\n",
       "      <td>no</td>\n",
       "      <td>1.0</td>\n",
       "      <td>1</td>\n",
       "      <td>apr</td>\n",
       "      <td>957</td>\n",
       "      <td>2</td>\n",
       "      <td>131</td>\n",
       "      <td>2</td>\n",
       "      <td>1</td>\n",
       "      <td>no</td>\n",
       "    </tr>\n",
       "    <tr>\n",
       "      <th>1</th>\n",
       "      <td>39.0</td>\n",
       "      <td>1.0</td>\n",
       "      <td>3</td>\n",
       "      <td>2.0</td>\n",
       "      <td>no</td>\n",
       "      <td>688</td>\n",
       "      <td>yes</td>\n",
       "      <td>yes</td>\n",
       "      <td>1.0</td>\n",
       "      <td>1</td>\n",
       "      <td>apr</td>\n",
       "      <td>233</td>\n",
       "      <td>2</td>\n",
       "      <td>133</td>\n",
       "      <td>1</td>\n",
       "      <td>1</td>\n",
       "      <td>no</td>\n",
       "    </tr>\n",
       "    <tr>\n",
       "      <th>2</th>\n",
       "      <td>59.0</td>\n",
       "      <td>2.0</td>\n",
       "      <td>1</td>\n",
       "      <td>2.0</td>\n",
       "      <td>no</td>\n",
       "      <td>1035</td>\n",
       "      <td>yes</td>\n",
       "      <td>yes</td>\n",
       "      <td>1.0</td>\n",
       "      <td>1</td>\n",
       "      <td>apr</td>\n",
       "      <td>126</td>\n",
       "      <td>2</td>\n",
       "      <td>239</td>\n",
       "      <td>1</td>\n",
       "      <td>1</td>\n",
       "      <td>no</td>\n",
       "    </tr>\n",
       "    <tr>\n",
       "      <th>3</th>\n",
       "      <td>47.0</td>\n",
       "      <td>3.0</td>\n",
       "      <td>1</td>\n",
       "      <td>2.0</td>\n",
       "      <td>no</td>\n",
       "      <td>398</td>\n",
       "      <td>yes</td>\n",
       "      <td>yes</td>\n",
       "      <td>1.0</td>\n",
       "      <td>1</td>\n",
       "      <td>apr</td>\n",
       "      <td>274</td>\n",
       "      <td>1</td>\n",
       "      <td>238</td>\n",
       "      <td>2</td>\n",
       "      <td>1</td>\n",
       "      <td>no</td>\n",
       "    </tr>\n",
       "    <tr>\n",
       "      <th>4</th>\n",
       "      <td>54.0</td>\n",
       "      <td>2.0</td>\n",
       "      <td>1</td>\n",
       "      <td>2.0</td>\n",
       "      <td>no</td>\n",
       "      <td>1004</td>\n",
       "      <td>yes</td>\n",
       "      <td>no</td>\n",
       "      <td>1.0</td>\n",
       "      <td>1</td>\n",
       "      <td>apr</td>\n",
       "      <td>479</td>\n",
       "      <td>1</td>\n",
       "      <td>307</td>\n",
       "      <td>1</td>\n",
       "      <td>1</td>\n",
       "      <td>no</td>\n",
       "    </tr>\n",
       "    <tr>\n",
       "      <th>5</th>\n",
       "      <td>46.0</td>\n",
       "      <td>4.0</td>\n",
       "      <td>3</td>\n",
       "      <td>3.0</td>\n",
       "      <td>no</td>\n",
       "      <td>926</td>\n",
       "      <td>yes</td>\n",
       "      <td>no</td>\n",
       "      <td>1.0</td>\n",
       "      <td>1</td>\n",
       "      <td>apr</td>\n",
       "      <td>463</td>\n",
       "      <td>1</td>\n",
       "      <td>133</td>\n",
       "      <td>3</td>\n",
       "      <td>1</td>\n",
       "      <td>no</td>\n",
       "    </tr>\n",
       "    <tr>\n",
       "      <th>6</th>\n",
       "      <td>34.0</td>\n",
       "      <td>3.0</td>\n",
       "      <td>1</td>\n",
       "      <td>2.0</td>\n",
       "      <td>no</td>\n",
       "      <td>1924</td>\n",
       "      <td>yes</td>\n",
       "      <td>yes</td>\n",
       "      <td>1.0</td>\n",
       "      <td>1</td>\n",
       "      <td>apr</td>\n",
       "      <td>161</td>\n",
       "      <td>2</td>\n",
       "      <td>253</td>\n",
       "      <td>1</td>\n",
       "      <td>1</td>\n",
       "      <td>no</td>\n",
       "    </tr>\n",
       "    <tr>\n",
       "      <th>7</th>\n",
       "      <td>45.0</td>\n",
       "      <td>5.0</td>\n",
       "      <td>3</td>\n",
       "      <td>2.0</td>\n",
       "      <td>no</td>\n",
       "      <td>396</td>\n",
       "      <td>yes</td>\n",
       "      <td>yes</td>\n",
       "      <td>1.0</td>\n",
       "      <td>1</td>\n",
       "      <td>apr</td>\n",
       "      <td>251</td>\n",
       "      <td>4</td>\n",
       "      <td>329</td>\n",
       "      <td>4</td>\n",
       "      <td>1</td>\n",
       "      <td>no</td>\n",
       "    </tr>\n",
       "    <tr>\n",
       "      <th>8</th>\n",
       "      <td>58.0</td>\n",
       "      <td>6.0</td>\n",
       "      <td>3</td>\n",
       "      <td>3.0</td>\n",
       "      <td>no</td>\n",
       "      <td>315</td>\n",
       "      <td>yes</td>\n",
       "      <td>no</td>\n",
       "      <td>1.0</td>\n",
       "      <td>1</td>\n",
       "      <td>apr</td>\n",
       "      <td>121</td>\n",
       "      <td>2</td>\n",
       "      <td>135</td>\n",
       "      <td>2</td>\n",
       "      <td>1</td>\n",
       "      <td>no</td>\n",
       "    </tr>\n",
       "    <tr>\n",
       "      <th>9</th>\n",
       "      <td>49.0</td>\n",
       "      <td>6.0</td>\n",
       "      <td>3</td>\n",
       "      <td>3.0</td>\n",
       "      <td>no</td>\n",
       "      <td>20727</td>\n",
       "      <td>no</td>\n",
       "      <td>no</td>\n",
       "      <td>1.0</td>\n",
       "      <td>1</td>\n",
       "      <td>apr</td>\n",
       "      <td>285</td>\n",
       "      <td>3</td>\n",
       "      <td>132</td>\n",
       "      <td>2</td>\n",
       "      <td>1</td>\n",
       "      <td>no</td>\n",
       "    </tr>\n",
       "  </tbody>\n",
       "</table>\n",
       "</div>"
      ]
     },
     "execution_count": 201,
     "metadata": {},
     "output_type": "execute_result"
    }
   ],
   "execution_count": 201
  },
  {
   "metadata": {},
   "cell_type": "markdown",
   "source": "We will explore the correlation between jobs and housing",
   "id": "65cae2e4ce06144b"
  },
  {
   "metadata": {
    "ExecuteTime": {
     "end_time": "2025-02-21T15:14:31.278976Z",
     "start_time": "2025-02-21T15:14:30.487733Z"
    }
   },
   "cell_type": "code",
   "source": [
    "import seaborn as sns\n",
    "\n",
    "plt.figure(figsize=(12, 6))\n",
    "sns.boxplot(x='job', y='age', hue='housing', data=df)\n",
    "plt.xticks(rotation=45)\n",
    "plt.xlabel(\"job\")\n",
    "plt.ylabel(\"age\")\n",
    "plt.title(\"Boxplot of Jobs by Housing Status against age\")\n",
    "plt.legend(title=\"Housing\")\n",
    "plt.show()\n"
   ],
   "id": "828da0ac3a535f79",
   "outputs": [
    {
     "data": {
      "text/plain": [
       "<Figure size 1200x600 with 1 Axes>"
      ],
      "image/png": "[encoded data removed]"
     },
     "metadata": {},
     "output_type": "display_data"
    }
   ],
   "execution_count": 202
  },
  {
   "metadata": {},
   "cell_type": "markdown",
   "source": "We can see some correlation, not strong, but certain jobs are less likely to have housing.",
   "id": "f018cdfb31dba184"
  },
  {
   "metadata": {
    "ExecuteTime": {
     "end_time": "2025-02-21T15:14:31.619023Z",
     "start_time": "2025-02-21T15:14:31.606027Z"
    }
   },
   "cell_type": "code",
   "source": [
    "df['job'] = df.groupby('housing')['job'].transform(lambda x: x.fillna(x.median()))\n",
    "df['job'].isna().sum()"
   ],
   "id": "f7e934db466aab55",
   "outputs": [
    {
     "data": {
      "text/plain": [
       "0"
      ]
     },
     "execution_count": 203,
     "metadata": {},
     "output_type": "execute_result"
    }
   ],
   "execution_count": 203
  },
  {
   "metadata": {},
   "cell_type": "markdown",
   "source": [
    "## Contacts\n",
    "Looking at the `contacts` there appears to nearly be a correlation between `pdays`, meaning that if they weren't contacted we don't know their `contact` method. However, there was a few where they had been contacted. So we will use the age to derive their `contact` method."
   ],
   "id": "ea9cf05891193840"
  },
  {
   "metadata": {
    "ExecuteTime": {
     "end_time": "2025-02-21T15:14:32.032490Z",
     "start_time": "2025-02-21T15:14:31.712295Z"
    }
   },
   "cell_type": "code",
   "source": [
    "plt.figure(figsize=(12, 6))\n",
    "sns.boxplot(x='age', hue='contact', data=df)\n",
    "plt.xticks(rotation=45)\n",
    "plt.ylabel(\"age\")\n",
    "plt.title(\"Boxplot of Jobs by Housing Status against age\")\n",
    "plt.legend(title=\"Contact\")\n",
    "plt.show()\n"
   ],
   "id": "82bbd35f9b32074a",
   "outputs": [
    {
     "data": {
      "text/plain": [
       "<Figure size 1200x600 with 1 Axes>"
      ],
      "image/png": "[encoded data removed]"
     },
     "metadata": {},
     "output_type": "display_data"
    }
   ],
   "execution_count": 204
  },
  {
   "metadata": {},
   "cell_type": "markdown",
   "source": "We can see that there is a trend in Telephone by elder age groups and cellular with younger.",
   "id": "b91f0ca305c1ec36"
  },
  {
   "metadata": {
    "ExecuteTime": {
     "end_time": "2025-02-21T15:14:32.077112Z",
     "start_time": "2025-02-21T15:14:32.055870Z"
    }
   },
   "cell_type": "code",
   "source": [
    "df['contact'] = df.groupby('age')['contact'].transform(lambda x: x.fillna(x.median()))\n",
    "df['contact'] = df['contact'].fillna(df['contact'].median())"
   ],
   "id": "812c9c68c71633f6",
   "outputs": [],
   "execution_count": 205
  },
  {
   "metadata": {
    "ExecuteTime": {
     "end_time": "2025-02-21T15:14:32.110985Z",
     "start_time": "2025-02-21T15:14:32.102635Z"
    }
   },
   "cell_type": "code",
   "source": "df.isna().sum()",
   "id": "7c41c372cf62aa48",
   "outputs": [
    {
     "data": {
      "text/plain": [
       "age           0\n",
       "job           0\n",
       "marital       0\n",
       "education     0\n",
       "default       0\n",
       "balance       0\n",
       "housing       0\n",
       "loan          0\n",
       "contact       0\n",
       "day           0\n",
       "month         0\n",
       "duration      0\n",
       "campaign      0\n",
       "pdays         0\n",
       "previous      0\n",
       "poutcome      0\n",
       "subscribed    0\n",
       "dtype: int64"
      ]
     },
     "execution_count": 206,
     "metadata": {},
     "output_type": "execute_result"
    }
   ],
   "execution_count": 206
  },
  {
   "metadata": {},
   "cell_type": "markdown",
   "source": "## One Hot Encoding",
   "id": "91025caab25324a5"
  },
  {
   "metadata": {},
   "cell_type": "markdown",
   "source": "We will unmap the jobs and marital status to get a meaning name for the one-hot encoding",
   "id": "53cbd50b2acca87b"
  },
  {
   "metadata": {
    "ExecuteTime": {
     "end_time": "2025-02-21T15:14:32.174958Z",
     "start_time": "2025-02-21T15:14:32.167939Z"
    }
   },
   "cell_type": "code",
   "source": [
    "# Unmap the jobs:\n",
    "unmapped_jobs = {\n",
    "   1 : 'technician' ,\n",
    "   2 : 'retired' ,\n",
    "   3 : 'blue-collar' ,\n",
    "   4 : 'self-employed' ,\n",
    "   5 : 'services' ,\n",
    "   6 : 'management' ,\n",
    "   7 : 'admin.' ,\n",
    "   8 : 'unemployed' ,\n",
    "   9 : 'student' ,\n",
    "   10 : 'entrepreneur' ,\n",
    "   11 : 'housemaid' \n",
    "}\n",
    "\n",
    "df['job'] = df['job'].map(unmapped_jobs)"
   ],
   "id": "a4afacbd16ffe92b",
   "outputs": [],
   "execution_count": 207
  },
  {
   "metadata": {
    "ExecuteTime": {
     "end_time": "2025-02-21T15:14:32.228941Z",
     "start_time": "2025-02-21T15:14:32.218482Z"
    }
   },
   "cell_type": "code",
   "source": [
    "# Unmap marital status\n",
    "un_marital_mapper = {\n",
    "    1: \"married\",\n",
    "    2: \"single\",\n",
    "     3: \"divorced\",\n",
    "}\n",
    "\n",
    "df['marital'] = df['marital'].map(un_marital_mapper)"
   ],
   "id": "8282494bee952cbb",
   "outputs": [],
   "execution_count": 208
  },
  {
   "metadata": {
    "ExecuteTime": {
     "end_time": "2025-02-21T15:14:32.315951Z",
     "start_time": "2025-02-21T15:14:32.268950Z"
    }
   },
   "cell_type": "code",
   "source": [
    "# Map the jobs to one hot encoding\n",
    "df = pd.get_dummies(df, columns=['housing', 'job', 'marital', 'contact', 'poutcome', 'education', 'default', 'loan'], \n",
    "                        dummy_na=True, \n",
    "                        drop_first=True)\n",
    "df"
   ],
   "id": "61b00fabd12f96de",
   "outputs": [
    {
     "data": {
      "text/plain": [
       "       age  balance  day month  duration  campaign  pdays  previous  \\\n",
       "0     32.0      392    1   apr       957         2    131         2   \n",
       "1     39.0      688    1   apr       233         2    133         1   \n",
       "2     59.0     1035    1   apr       126         2    239         1   \n",
       "3     47.0      398    1   apr       274         1    238         2   \n",
       "4     54.0     1004    1   apr       479         1    307         1   \n",
       "...    ...      ...  ...   ...       ...       ...    ...       ...   \n",
       "1995  31.0     2785   16   sep       327         2     -1         0   \n",
       "1996  28.0      127   16   sep      1334         2     -1         0   \n",
       "1997  81.0     1154   17   sep       231         1     -1         0   \n",
       "1998  46.0     4343   20   sep       185         1     -1         0   \n",
       "1999  40.0     6403   22   sep       208         2     -1         0   \n",
       "\n",
       "     subscribed  housing_yes  ...  poutcome_4.0  poutcome_nan  education_2.0  \\\n",
       "0            no         True  ...         False         False          False   \n",
       "1            no         True  ...         False         False           True   \n",
       "2            no         True  ...         False         False           True   \n",
       "3            no         True  ...         False         False           True   \n",
       "4            no         True  ...         False         False           True   \n",
       "...         ...          ...  ...           ...           ...            ...   \n",
       "1995        yes        False  ...          True         False           True   \n",
       "1996        yes        False  ...          True         False           True   \n",
       "1997        yes        False  ...          True         False          False   \n",
       "1998        yes         True  ...          True         False          False   \n",
       "1999        yes        False  ...          True         False           True   \n",
       "\n",
       "      education_2.5  education_3.0  education_nan  default_yes  default_nan  \\\n",
       "0             False           True          False        False        False   \n",
       "1             False          False          False        False        False   \n",
       "2             False          False          False        False        False   \n",
       "3             False          False          False        False        False   \n",
       "4             False          False          False        False        False   \n",
       "...             ...            ...            ...          ...          ...   \n",
       "1995          False          False          False        False        False   \n",
       "1996          False          False          False        False        False   \n",
       "1997          False          False          False        False        False   \n",
       "1998          False          False          False        False        False   \n",
       "1999          False          False          False        False        False   \n",
       "\n",
       "      loan_yes  loan_nan  \n",
       "0        False     False  \n",
       "1         True     False  \n",
       "2         True     False  \n",
       "3         True     False  \n",
       "4        False     False  \n",
       "...        ...       ...  \n",
       "1995     False     False  \n",
       "1996     False     False  \n",
       "1997     False     False  \n",
       "1998     False     False  \n",
       "1999     False     False  \n",
       "\n",
       "[2000 rows x 39 columns]"
      ],
      "text/html": [
       "<div>\n",
       "<style scoped>\n",
       "    .dataframe tbody tr th:only-of-type {\n",
       "        vertical-align: middle;\n",
       "    }\n",
       "\n",
       "    .dataframe tbody tr th {\n",
       "        vertical-align: top;\n",
       "    }\n",
       "\n",
       "    .dataframe thead th {\n",
       "        text-align: right;\n",
       "    }\n",
       "</style>\n",
       "<table border=\"1\" class=\"dataframe\">\n",
       "  <thead>\n",
       "    <tr style=\"text-align: right;\">\n",
       "      <th></th>\n",
       "      <th>age</th>\n",
       "      <th>balance</th>\n",
       "      <th>day</th>\n",
       "      <th>month</th>\n",
       "      <th>duration</th>\n",
       "      <th>campaign</th>\n",
       "      <th>pdays</th>\n",
       "      <th>previous</th>\n",
       "      <th>subscribed</th>\n",
       "      <th>housing_yes</th>\n",
       "      <th>...</th>\n",
       "      <th>poutcome_4.0</th>\n",
       "      <th>poutcome_nan</th>\n",
       "      <th>education_2.0</th>\n",
       "      <th>education_2.5</th>\n",
       "      <th>education_3.0</th>\n",
       "      <th>education_nan</th>\n",
       "      <th>default_yes</th>\n",
       "      <th>default_nan</th>\n",
       "      <th>loan_yes</th>\n",
       "      <th>loan_nan</th>\n",
       "    </tr>\n",
       "  </thead>\n",
       "  <tbody>\n",
       "    <tr>\n",
       "      <th>0</th>\n",
       "      <td>32.0</td>\n",
       "      <td>392</td>\n",
       "      <td>1</td>\n",
       "      <td>apr</td>\n",
       "      <td>957</td>\n",
       "      <td>2</td>\n",
       "      <td>131</td>\n",
       "      <td>2</td>\n",
       "      <td>no</td>\n",
       "      <td>True</td>\n",
       "      <td>...</td>\n",
       "      <td>False</td>\n",
       "      <td>False</td>\n",
       "      <td>False</td>\n",
       "      <td>False</td>\n",
       "      <td>True</td>\n",
       "      <td>False</td>\n",
       "      <td>False</td>\n",
       "      <td>False</td>\n",
       "      <td>False</td>\n",
       "      <td>False</td>\n",
       "    </tr>\n",
       "    <tr>\n",
       "      <th>1</th>\n",
       "      <td>39.0</td>\n",
       "      <td>688</td>\n",
       "      <td>1</td>\n",
       "      <td>apr</td>\n",
       "      <td>233</td>\n",
       "      <td>2</td>\n",
       "      <td>133</td>\n",
       "      <td>1</td>\n",
       "      <td>no</td>\n",
       "      <td>True</td>\n",
       "      <td>...</td>\n",
       "      <td>False</td>\n",
       "      <td>False</td>\n",
       "      <td>True</td>\n",
       "      <td>False</td>\n",
       "      <td>False</td>\n",
       "      <td>False</td>\n",
       "      <td>False</td>\n",
       "      <td>False</td>\n",
       "      <td>True</td>\n",
       "      <td>False</td>\n",
       "    </tr>\n",
       "    <tr>\n",
       "      <th>2</th>\n",
       "      <td>59.0</td>\n",
       "      <td>1035</td>\n",
       "      <td>1</td>\n",
       "      <td>apr</td>\n",
       "      <td>126</td>\n",
       "      <td>2</td>\n",
       "      <td>239</td>\n",
       "      <td>1</td>\n",
       "      <td>no</td>\n",
       "      <td>True</td>\n",
       "      <td>...</td>\n",
       "      <td>False</td>\n",
       "      <td>False</td>\n",
       "      <td>True</td>\n",
       "      <td>False</td>\n",
       "      <td>False</td>\n",
       "      <td>False</td>\n",
       "      <td>False</td>\n",
       "      <td>False</td>\n",
       "      <td>True</td>\n",
       "      <td>False</td>\n",
       "    </tr>\n",
       "    <tr>\n",
       "      <th>3</th>\n",
       "      <td>47.0</td>\n",
       "      <td>398</td>\n",
       "      <td>1</td>\n",
       "      <td>apr</td>\n",
       "      <td>274</td>\n",
       "      <td>1</td>\n",
       "      <td>238</td>\n",
       "      <td>2</td>\n",
       "      <td>no</td>\n",
       "      <td>True</td>\n",
       "      <td>...</td>\n",
       "      <td>False</td>\n",
       "      <td>False</td>\n",
       "      <td>True</td>\n",
       "      <td>False</td>\n",
       "      <td>False</td>\n",
       "      <td>False</td>\n",
       "      <td>False</td>\n",
       "      <td>False</td>\n",
       "      <td>True</td>\n",
       "      <td>False</td>\n",
       "    </tr>\n",
       "    <tr>\n",
       "      <th>4</th>\n",
       "      <td>54.0</td>\n",
       "      <td>1004</td>\n",
       "      <td>1</td>\n",
       "      <td>apr</td>\n",
       "      <td>479</td>\n",
       "      <td>1</td>\n",
       "      <td>307</td>\n",
       "      <td>1</td>\n",
       "      <td>no</td>\n",
       "      <td>True</td>\n",
       "      <td>...</td>\n",
       "      <td>False</td>\n",
       "      <td>False</td>\n",
       "      <td>True</td>\n",
       "      <td>False</td>\n",
       "      <td>False</td>\n",
       "      <td>False</td>\n",
       "      <td>False</td>\n",
       "      <td>False</td>\n",
       "      <td>False</td>\n",
       "      <td>False</td>\n",
       "    </tr>\n",
       "    <tr>\n",
       "      <th>...</th>\n",
       "      <td>...</td>\n",
       "      <td>...</td>\n",
       "      <td>...</td>\n",
       "      <td>...</td>\n",
       "      <td>...</td>\n",
       "      <td>...</td>\n",
       "      <td>...</td>\n",
       "      <td>...</td>\n",
       "      <td>...</td>\n",
       "      <td>...</td>\n",
       "      <td>...</td>\n",
       "      <td>...</td>\n",
       "      <td>...</td>\n",
       "      <td>...</td>\n",
       "      <td>...</td>\n",
       "      <td>...</td>\n",
       "      <td>...</td>\n",
       "      <td>...</td>\n",
       "      <td>...</td>\n",
       "      <td>...</td>\n",
       "      <td>...</td>\n",
       "    </tr>\n",
       "    <tr>\n",
       "      <th>1995</th>\n",
       "      <td>31.0</td>\n",
       "      <td>2785</td>\n",
       "      <td>16</td>\n",
       "      <td>sep</td>\n",
       "      <td>327</td>\n",
       "      <td>2</td>\n",
       "      <td>-1</td>\n",
       "      <td>0</td>\n",
       "      <td>yes</td>\n",
       "      <td>False</td>\n",
       "      <td>...</td>\n",
       "      <td>True</td>\n",
       "      <td>False</td>\n",
       "      <td>True</td>\n",
       "      <td>False</td>\n",
       "      <td>False</td>\n",
       "      <td>False</td>\n",
       "      <td>False</td>\n",
       "      <td>False</td>\n",
       "      <td>False</td>\n",
       "      <td>False</td>\n",
       "    </tr>\n",
       "    <tr>\n",
       "      <th>1996</th>\n",
       "      <td>28.0</td>\n",
       "      <td>127</td>\n",
       "      <td>16</td>\n",
       "      <td>sep</td>\n",
       "      <td>1334</td>\n",
       "      <td>2</td>\n",
       "      <td>-1</td>\n",
       "      <td>0</td>\n",
       "      <td>yes</td>\n",
       "      <td>False</td>\n",
       "      <td>...</td>\n",
       "      <td>True</td>\n",
       "      <td>False</td>\n",
       "      <td>True</td>\n",
       "      <td>False</td>\n",
       "      <td>False</td>\n",
       "      <td>False</td>\n",
       "      <td>False</td>\n",
       "      <td>False</td>\n",
       "      <td>False</td>\n",
       "      <td>False</td>\n",
       "    </tr>\n",
       "    <tr>\n",
       "      <th>1997</th>\n",
       "      <td>81.0</td>\n",
       "      <td>1154</td>\n",
       "      <td>17</td>\n",
       "      <td>sep</td>\n",
       "      <td>231</td>\n",
       "      <td>1</td>\n",
       "      <td>-1</td>\n",
       "      <td>0</td>\n",
       "      <td>yes</td>\n",
       "      <td>False</td>\n",
       "      <td>...</td>\n",
       "      <td>True</td>\n",
       "      <td>False</td>\n",
       "      <td>False</td>\n",
       "      <td>False</td>\n",
       "      <td>False</td>\n",
       "      <td>False</td>\n",
       "      <td>False</td>\n",
       "      <td>False</td>\n",
       "      <td>False</td>\n",
       "      <td>False</td>\n",
       "    </tr>\n",
       "    <tr>\n",
       "      <th>1998</th>\n",
       "      <td>46.0</td>\n",
       "      <td>4343</td>\n",
       "      <td>20</td>\n",
       "      <td>sep</td>\n",
       "      <td>185</td>\n",
       "      <td>1</td>\n",
       "      <td>-1</td>\n",
       "      <td>0</td>\n",
       "      <td>yes</td>\n",
       "      <td>True</td>\n",
       "      <td>...</td>\n",
       "      <td>True</td>\n",
       "      <td>False</td>\n",
       "      <td>False</td>\n",
       "      <td>False</td>\n",
       "      <td>False</td>\n",
       "      <td>False</td>\n",
       "      <td>False</td>\n",
       "      <td>False</td>\n",
       "      <td>False</td>\n",
       "      <td>False</td>\n",
       "    </tr>\n",
       "    <tr>\n",
       "      <th>1999</th>\n",
       "      <td>40.0</td>\n",
       "      <td>6403</td>\n",
       "      <td>22</td>\n",
       "      <td>sep</td>\n",
       "      <td>208</td>\n",
       "      <td>2</td>\n",
       "      <td>-1</td>\n",
       "      <td>0</td>\n",
       "      <td>yes</td>\n",
       "      <td>False</td>\n",
       "      <td>...</td>\n",
       "      <td>True</td>\n",
       "      <td>False</td>\n",
       "      <td>True</td>\n",
       "      <td>False</td>\n",
       "      <td>False</td>\n",
       "      <td>False</td>\n",
       "      <td>False</td>\n",
       "      <td>False</td>\n",
       "      <td>False</td>\n",
       "      <td>False</td>\n",
       "    </tr>\n",
       "  </tbody>\n",
       "</table>\n",
       "<p>2000 rows × 39 columns</p>\n",
       "</div>"
      ]
     },
     "execution_count": 209,
     "metadata": {},
     "output_type": "execute_result"
    }
   ],
   "execution_count": 209
  },
  {
   "metadata": {},
   "cell_type": "markdown",
   "source": "## Scaling",
   "id": "1bfe5018b1a6f3b3"
  },
  {
   "metadata": {},
   "cell_type": "markdown",
   "source": "We will use robust scaler which is less sensitive to outliers",
   "id": "64c474e6917f2660"
  },
  {
   "metadata": {
    "ExecuteTime": {
     "end_time": "2025-02-21T15:14:32.429708Z",
     "start_time": "2025-02-21T15:14:32.387707Z"
    }
   },
   "cell_type": "code",
   "source": [
    "robustScaler = RobustScaler()\n",
    "df[['balance', 'duration', 'campaign', 'pdays', 'previous']] = robustScaler.fit_transform(df[['balance', 'duration', 'campaign', 'pdays', 'previous']])"
   ],
   "id": "1d23fe6051733cae",
   "outputs": [],
   "execution_count": 210
  },
  {
   "metadata": {
    "ExecuteTime": {
     "end_time": "2025-02-21T15:14:32.739323Z",
     "start_time": "2025-02-21T15:14:32.504318Z"
    }
   },
   "cell_type": "code",
   "source": "df.boxplot(column=['balance', 'duration', 'campaign', 'pdays', 'previous'])",
   "id": "a763097a48be7e80",
   "outputs": [
    {
     "data": {
      "text/plain": [
       "<Axes: >"
      ]
     },
     "execution_count": 211,
     "metadata": {},
     "output_type": "execute_result"
    },
    {
     "data": {
      "text/plain": [
       "<Figure size 640x480 with 1 Axes>"
      ],
      "image/png": "[encoded data removed]"
     },
     "metadata": {},
     "output_type": "display_data"
    }
   ],
   "execution_count": 211
  },
  {
   "metadata": {},
   "cell_type": "markdown",
   "source": "There is a lot of outliers in the data even after the data is scaled",
   "id": "f560ab859d0a934d"
  },
  {
   "metadata": {
    "ExecuteTime": {
     "end_time": "2025-02-21T15:14:34.274161Z",
     "start_time": "2025-02-21T15:14:32.748349Z"
    }
   },
   "cell_type": "code",
   "source": [
    "fig = plt.figure(figsize=(32,32))\n",
    "\n",
    "ax1 = fig.add_subplot(3, 2, 1)\n",
    "ax1.set_title(\"Histogram of Duration\")\n",
    "ax1.set_xlabel('Duration')\n",
    "ax1.set_ylabel('Number of Applicants')\n",
    "df['duration'].hist(bins=40)\n",
    "\n",
    "ax2 = fig.add_subplot(3, 2, 2)\n",
    "ax2.set_title(\"Histogram of balance\")\n",
    "ax2.set_xlabel('balance')\n",
    "ax2.set_ylabel('Number of Applicants')\n",
    "df['balance'].hist()\n",
    "\n",
    "ax3 = fig.add_subplot(3, 2, 3)\n",
    "ax3.set_title(\"Histogram of age\")\n",
    "ax3.set_xlabel('age')\n",
    "ax3.set_ylabel('Number of Applicants')\n",
    "df['age'].hist(bins=25)\n",
    "\n",
    "ax4 = fig.add_subplot(3, 2, 4)\n",
    "ax4.set_title(\"Histogram of campaign\")\n",
    "ax4.set_xlabel('campaign')\n",
    "ax4.set_ylabel('Number of Applicants')\n",
    "df['campaign'].hist()\n",
    "\n",
    "ax5 = fig.add_subplot(3, 2, 5)\n",
    "ax5.set_title(\"Histogram of pdays\")\n",
    "ax5.set_xlabel('pdays')\n",
    "ax5.set_ylabel('Number of Applicants')\n",
    "df['pdays'].hist()\n",
    "\n",
    "ax6 = fig.add_subplot(3, 2, 6)\n",
    "ax6.set_title(\"Histogram of previous\")\n",
    "ax6.set_xlabel('previous')\n",
    "ax6.set_ylabel('Number of Applicants')\n",
    "df['previous'].hist()\n",
    "\n",
    "plt.show()"
   ],
   "id": "544ec0ead13d8c3c",
   "outputs": [
    {
     "data": {
      "text/plain": [
       "<Figure size 3200x3200 with 6 Axes>"
      ],
      "image/png": "[encoded data removed]"
     },
     "metadata": {},
     "output_type": "display_data"
    }
   ],
   "execution_count": 212
  },
  {
   "metadata": {},
   "cell_type": "markdown",
   "source": "We can see that most of our data is skewed to the left, even after scaling. This is probably due to the nature of the data We could consider using logarithmic scaling to reduce the skewness of the data.",
   "id": "52c141ae3f8558b9"
  },
  {
   "metadata": {},
   "cell_type": "markdown",
   "source": "## New Attribute\n",
   "id": "4e573c43d309f7f8"
  },
  {
   "metadata": {},
   "cell_type": "markdown",
   "source": "Before we can apply log transformation, where the -1 exists we will create a new column called `never_contacted` and its true or false. ",
   "id": "9019caed6fc7fc74"
  },
  {
   "metadata": {
    "ExecuteTime": {
     "end_time": "2025-02-21T15:14:34.328957Z",
     "start_time": "2025-02-21T15:14:34.315958Z"
    }
   },
   "cell_type": "code",
   "source": [
    "df['never_contacted'] = df['pdays'].apply(lambda x: 1 if x == -1 else 0)\n",
    "df = pd.get_dummies(df, columns=['never_contacted'], \n",
    "                        dummy_na=True, \n",
    "                        drop_first=True)"
   ],
   "id": "b5813ee63ceb0fe0",
   "outputs": [],
   "execution_count": 213
  },
  {
   "metadata": {
    "ExecuteTime": {
     "end_time": "2025-02-21T15:14:34.738868Z",
     "start_time": "2025-02-21T15:14:34.421874Z"
    }
   },
   "cell_type": "code",
   "source": "np.log(df['pdays'] + 2).hist()",
   "id": "a025390a7c354adc",
   "outputs": [
    {
     "data": {
      "text/plain": [
       "<Axes: >"
      ]
     },
     "execution_count": 214,
     "metadata": {},
     "output_type": "execute_result"
    },
    {
     "data": {
      "text/plain": [
       "<Figure size 640x480 with 1 Axes>"
      ],
      "image/png": "[encoded data removed]"
     },
     "metadata": {},
     "output_type": "display_data"
    }
   ],
   "execution_count": 214
  },
  {
   "metadata": {
    "ExecuteTime": {
     "end_time": "2025-02-21T15:14:34.979977Z",
     "start_time": "2025-02-21T15:14:34.760380Z"
    }
   },
   "cell_type": "code",
   "source": "np.log(df['balance']).hist()",
   "id": "69f1915e5c022211",
   "outputs": [
    {
     "name": "stderr",
     "output_type": "stream",
     "text": [
      "C:\\Users\\kmila\\miniconda3\\Lib\\site-packages\\pandas\\core\\arraylike.py:399: RuntimeWarning: invalid value encountered in log\n",
      "  result = getattr(ufunc, method)(*inputs, **kwargs)\n"
     ]
    },
    {
     "data": {
      "text/plain": [
       "<Axes: >"
      ]
     },
     "execution_count": 215,
     "metadata": {},
     "output_type": "execute_result"
    },
    {
     "data": {
      "text/plain": [
       "<Figure size 640x480 with 1 Axes>"
      ],
      "image/png": "[encoded data removed]"
     },
     "metadata": {},
     "output_type": "display_data"
    }
   ],
   "execution_count": 215
  },
  {
   "metadata": {
    "ExecuteTime": {
     "end_time": "2025-02-21T15:14:35.172316Z",
     "start_time": "2025-02-21T15:14:35.003060Z"
    }
   },
   "cell_type": "code",
   "source": "np.log(df['duration'] + 2).hist()",
   "id": "e72aafafb3e87e65",
   "outputs": [
    {
     "data": {
      "text/plain": [
       "<Axes: >"
      ]
     },
     "execution_count": 216,
     "metadata": {},
     "output_type": "execute_result"
    },
    {
     "data": {
      "text/plain": [
       "<Figure size 640x480 with 1 Axes>"
      ],
      "image/png": "[encoded data removed]"
     },
     "metadata": {},
     "output_type": "display_data"
    }
   ],
   "execution_count": 216
  },
  {
   "metadata": {
    "ExecuteTime": {
     "end_time": "2025-02-21T15:14:35.400811Z",
     "start_time": "2025-02-21T15:14:35.200797Z"
    }
   },
   "cell_type": "code",
   "source": "np.log(df['campaign'] + 1).hist()",
   "id": "9a000922ec3cd846",
   "outputs": [
    {
     "data": {
      "text/plain": [
       "<Axes: >"
      ]
     },
     "execution_count": 217,
     "metadata": {},
     "output_type": "execute_result"
    },
    {
     "data": {
      "text/plain": [
       "<Figure size 640x480 with 1 Axes>"
      ],
      "image/png": "[encoded data removed]"
     },
     "metadata": {},
     "output_type": "display_data"
    }
   ],
   "execution_count": 217
  },
  {
   "metadata": {
    "ExecuteTime": {
     "end_time": "2025-02-21T15:14:35.645488Z",
     "start_time": "2025-02-21T15:14:35.424728Z"
    }
   },
   "cell_type": "code",
   "source": "np.log(df['age']).hist()",
   "id": "b851b28b15b433e6",
   "outputs": [
    {
     "data": {
      "text/plain": [
       "<Axes: >"
      ]
     },
     "execution_count": 218,
     "metadata": {},
     "output_type": "execute_result"
    },
    {
     "data": {
      "text/plain": [
       "<Figure size 640x480 with 1 Axes>"
      ],
      "image/png": "[encoded data removed]"
     },
     "metadata": {},
     "output_type": "display_data"
    }
   ],
   "execution_count": 218
  },
  {
   "metadata": {
    "ExecuteTime": {
     "end_time": "2025-02-21T15:14:35.882059Z",
     "start_time": "2025-02-21T15:14:35.670221Z"
    }
   },
   "cell_type": "code",
   "source": "np.log(df['previous'] + 2).hist()",
   "id": "ab0ed3c7fee2496c",
   "outputs": [
    {
     "data": {
      "text/plain": [
       "<Axes: >"
      ]
     },
     "execution_count": 219,
     "metadata": {},
     "output_type": "execute_result"
    },
    {
     "data": {
      "text/plain": [
       "<Figure size 640x480 with 1 Axes>"
      ],
      "image/png": "[encoded data removed]"
     },
     "metadata": {},
     "output_type": "display_data"
    }
   ],
   "execution_count": 219
  },
  {
   "metadata": {},
   "cell_type": "markdown",
   "source": "## Save the dataset",
   "id": "165e10666aed0596"
  },
  {
   "metadata": {
    "ExecuteTime": {
     "end_time": "2025-02-21T15:14:35.969709Z",
     "start_time": "2025-02-21T15:14:35.906037Z"
    }
   },
   "cell_type": "code",
   "source": "df.to_csv('bank_cleaned.csv', index=False)",
   "id": "8036ce16b85bc5ec",
   "outputs": [],
   "execution_count": 220
  }
 ],
 "metadata": {
  "kernelspec": {
   "display_name": "Python 3",
   "language": "python",
   "name": "python3"
  },
  "language_info": {
   "codemirror_mode": {
    "name": "ipython",
    "version": 2
   },
   "file_extension": ".py",
   "mimetype": "text/x-python",
   "name": "python",
   "nbconvert_exporter": "python",
   "pygments_lexer": "ipython2",
   "version": "2.7.6"
  }
 },
 "nbformat": 4,
 "nbformat_minor": 5
}
