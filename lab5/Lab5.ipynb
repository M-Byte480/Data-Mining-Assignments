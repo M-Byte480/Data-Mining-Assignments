{
 "cells": [
  {
   "metadata": {},
   "cell_type": "markdown",
   "source": [
    "# Milan Kovacs\n",
    "## 21308128"
   ],
   "id": "9bf7ce94f2dacefc"
  },
  {
   "metadata": {},
   "cell_type": "markdown",
   "source": [
    "Task: \n",
    "Repeat the experiment in Lab5 - Regression and Dimensionality Reduction.ipynb with insurance.csv and draw conclusions from the results you observe in a markdown cell. Add a third regression algorithm of your choice. Describe how it compares to Random Forest and Linear regression in a markdown cell (max 250 words in a markdown cell)."
   ],
   "id": "7b9451a8bc34f2e6"
  },
  {
   "cell_type": "code",
   "id": "initial_id",
   "metadata": {
    "collapsed": true,
    "ExecuteTime": {
     "end_time": "2025-03-23T01:49:14.131475Z",
     "start_time": "2025-03-23T01:49:14.019974Z"
    }
   },
   "source": [
    "import matplotlib.pyplot as plt\n",
    "import numpy as np\n",
    "import pandas as pd\n",
    "from sklearn.cluster import FeatureAgglomeration\n",
    "from sklearn.compose import (ColumnTransformer, TransformedTargetRegressor)\n",
    "from sklearn.model_selection import train_test_split, GridSearchCV\n",
    "from sklearn.pipeline import Pipeline\n",
    "from sklearn.preprocessing import (StandardScaler, RobustScaler, OneHotEncoder)\n",
    "from sklearn.random_projection import GaussianRandomProjection\n",
    "%matplotlib inline\n",
    "\n",
    "# imports necessary for dimensionality reduction\n",
    "from sklearn.decomposition import PCA\n",
    "from sklearn.feature_selection import RFE\n",
    "from sklearn import svm\n",
    "\n",
    "# regression algorithms\n",
    "from sklearn.ensemble import RandomForestRegressor\n",
    "from sklearn.linear_model import LinearRegression\n",
    "\n",
    "# metrics for evaluating regression models\n",
    "from sklearn.metrics import mean_squared_error, mean_absolute_error, r2_score"
   ],
   "outputs": [],
   "execution_count": 87
  },
  {
   "metadata": {},
   "cell_type": "markdown",
   "source": "## EDA",
   "id": "8ac063c52645a8c9"
  },
  {
   "metadata": {
    "ExecuteTime": {
     "end_time": "2025-03-23T01:49:14.326650Z",
     "start_time": "2025-03-23T01:49:14.199942Z"
    }
   },
   "cell_type": "code",
   "source": [
    "df = pd.read_csv('insurance.csv')\n",
    "df.head()"
   ],
   "id": "12919e1622d931ea",
   "outputs": [
    {
     "data": {
      "text/plain": [
       "   age  gender     bmi  children smoker     region  insurance_cost\n",
       "0   18    male  33.770         1     no  southeast      1725.55230\n",
       "1   18    male  34.100         0     no  southeast      1137.01100\n",
       "2   18  female  26.315         0     no  northeast      2198.18985\n",
       "3   18  female  38.665         2     no  northeast      3393.35635\n",
       "4   18  female  35.625         0     no  northeast      2211.13075"
      ],
      "text/html": [
       "<div>\n",
       "<style scoped>\n",
       "    .dataframe tbody tr th:only-of-type {\n",
       "        vertical-align: middle;\n",
       "    }\n",
       "\n",
       "    .dataframe tbody tr th {\n",
       "        vertical-align: top;\n",
       "    }\n",
       "\n",
       "    .dataframe thead th {\n",
       "        text-align: right;\n",
       "    }\n",
       "</style>\n",
       "<table border=\"1\" class=\"dataframe\">\n",
       "  <thead>\n",
       "    <tr style=\"text-align: right;\">\n",
       "      <th></th>\n",
       "      <th>age</th>\n",
       "      <th>gender</th>\n",
       "      <th>bmi</th>\n",
       "      <th>children</th>\n",
       "      <th>smoker</th>\n",
       "      <th>region</th>\n",
       "      <th>insurance_cost</th>\n",
       "    </tr>\n",
       "  </thead>\n",
       "  <tbody>\n",
       "    <tr>\n",
       "      <th>0</th>\n",
       "      <td>18</td>\n",
       "      <td>male</td>\n",
       "      <td>33.770</td>\n",
       "      <td>1</td>\n",
       "      <td>no</td>\n",
       "      <td>southeast</td>\n",
       "      <td>1725.55230</td>\n",
       "    </tr>\n",
       "    <tr>\n",
       "      <th>1</th>\n",
       "      <td>18</td>\n",
       "      <td>male</td>\n",
       "      <td>34.100</td>\n",
       "      <td>0</td>\n",
       "      <td>no</td>\n",
       "      <td>southeast</td>\n",
       "      <td>1137.01100</td>\n",
       "    </tr>\n",
       "    <tr>\n",
       "      <th>2</th>\n",
       "      <td>18</td>\n",
       "      <td>female</td>\n",
       "      <td>26.315</td>\n",
       "      <td>0</td>\n",
       "      <td>no</td>\n",
       "      <td>northeast</td>\n",
       "      <td>2198.18985</td>\n",
       "    </tr>\n",
       "    <tr>\n",
       "      <th>3</th>\n",
       "      <td>18</td>\n",
       "      <td>female</td>\n",
       "      <td>38.665</td>\n",
       "      <td>2</td>\n",
       "      <td>no</td>\n",
       "      <td>northeast</td>\n",
       "      <td>3393.35635</td>\n",
       "    </tr>\n",
       "    <tr>\n",
       "      <th>4</th>\n",
       "      <td>18</td>\n",
       "      <td>female</td>\n",
       "      <td>35.625</td>\n",
       "      <td>0</td>\n",
       "      <td>no</td>\n",
       "      <td>northeast</td>\n",
       "      <td>2211.13075</td>\n",
       "    </tr>\n",
       "  </tbody>\n",
       "</table>\n",
       "</div>"
      ]
     },
     "execution_count": 88,
     "metadata": {},
     "output_type": "execute_result"
    }
   ],
   "execution_count": 88
  },
  {
   "metadata": {
    "ExecuteTime": {
     "end_time": "2025-03-23T01:49:14.630556Z",
     "start_time": "2025-03-23T01:49:14.614105Z"
    }
   },
   "cell_type": "code",
   "source": "df.tail()",
   "id": "9b3266dff3202722",
   "outputs": [
    {
     "data": {
      "text/plain": [
       "      age  gender     bmi  children smoker     region  insurance_cost\n",
       "1333   64  female  31.825         2     no  northeast     16069.08475\n",
       "1334   64  female  26.885         0    yes  northwest     29330.98315\n",
       "1335   64    male  26.410         0     no  northeast     14394.55790\n",
       "1336   64    male  36.960         2    yes  southeast     49577.66240\n",
       "1337   64    male  23.760         0    yes  southeast     26926.51440"
      ],
      "text/html": [
       "<div>\n",
       "<style scoped>\n",
       "    .dataframe tbody tr th:only-of-type {\n",
       "        vertical-align: middle;\n",
       "    }\n",
       "\n",
       "    .dataframe tbody tr th {\n",
       "        vertical-align: top;\n",
       "    }\n",
       "\n",
       "    .dataframe thead th {\n",
       "        text-align: right;\n",
       "    }\n",
       "</style>\n",
       "<table border=\"1\" class=\"dataframe\">\n",
       "  <thead>\n",
       "    <tr style=\"text-align: right;\">\n",
       "      <th></th>\n",
       "      <th>age</th>\n",
       "      <th>gender</th>\n",
       "      <th>bmi</th>\n",
       "      <th>children</th>\n",
       "      <th>smoker</th>\n",
       "      <th>region</th>\n",
       "      <th>insurance_cost</th>\n",
       "    </tr>\n",
       "  </thead>\n",
       "  <tbody>\n",
       "    <tr>\n",
       "      <th>1333</th>\n",
       "      <td>64</td>\n",
       "      <td>female</td>\n",
       "      <td>31.825</td>\n",
       "      <td>2</td>\n",
       "      <td>no</td>\n",
       "      <td>northeast</td>\n",
       "      <td>16069.08475</td>\n",
       "    </tr>\n",
       "    <tr>\n",
       "      <th>1334</th>\n",
       "      <td>64</td>\n",
       "      <td>female</td>\n",
       "      <td>26.885</td>\n",
       "      <td>0</td>\n",
       "      <td>yes</td>\n",
       "      <td>northwest</td>\n",
       "      <td>29330.98315</td>\n",
       "    </tr>\n",
       "    <tr>\n",
       "      <th>1335</th>\n",
       "      <td>64</td>\n",
       "      <td>male</td>\n",
       "      <td>26.410</td>\n",
       "      <td>0</td>\n",
       "      <td>no</td>\n",
       "      <td>northeast</td>\n",
       "      <td>14394.55790</td>\n",
       "    </tr>\n",
       "    <tr>\n",
       "      <th>1336</th>\n",
       "      <td>64</td>\n",
       "      <td>male</td>\n",
       "      <td>36.960</td>\n",
       "      <td>2</td>\n",
       "      <td>yes</td>\n",
       "      <td>southeast</td>\n",
       "      <td>49577.66240</td>\n",
       "    </tr>\n",
       "    <tr>\n",
       "      <th>1337</th>\n",
       "      <td>64</td>\n",
       "      <td>male</td>\n",
       "      <td>23.760</td>\n",
       "      <td>0</td>\n",
       "      <td>yes</td>\n",
       "      <td>southeast</td>\n",
       "      <td>26926.51440</td>\n",
       "    </tr>\n",
       "  </tbody>\n",
       "</table>\n",
       "</div>"
      ]
     },
     "execution_count": 89,
     "metadata": {},
     "output_type": "execute_result"
    }
   ],
   "execution_count": 89
  },
  {
   "metadata": {
    "ExecuteTime": {
     "end_time": "2025-03-23T01:49:16.368529Z",
     "start_time": "2025-03-23T01:49:16.338607Z"
    }
   },
   "cell_type": "code",
   "source": "df.info()",
   "id": "23539d5a386b911e",
   "outputs": [
    {
     "name": "stdout",
     "output_type": "stream",
     "text": [
      "<class 'pandas.core.frame.DataFrame'>\n",
      "RangeIndex: 1338 entries, 0 to 1337\n",
      "Data columns (total 7 columns):\n",
      " #   Column          Non-Null Count  Dtype  \n",
      "---  ------          --------------  -----  \n",
      " 0   age             1338 non-null   int64  \n",
      " 1   gender          1338 non-null   object \n",
      " 2   bmi             1338 non-null   float64\n",
      " 3   children        1338 non-null   int64  \n",
      " 4   smoker          1338 non-null   object \n",
      " 5   region          1338 non-null   object \n",
      " 6   insurance_cost  1338 non-null   float64\n",
      "dtypes: float64(2), int64(2), object(3)\n",
      "memory usage: 73.3+ KB\n"
     ]
    }
   ],
   "execution_count": 90
  },
  {
   "metadata": {
    "ExecuteTime": {
     "end_time": "2025-03-23T01:49:16.647883Z",
     "start_time": "2025-03-23T01:49:16.637586Z"
    }
   },
   "cell_type": "code",
   "source": "df['age'].value_counts()",
   "id": "c279818f897f2505",
   "outputs": [
    {
     "data": {
      "text/plain": [
       "age\n",
       "18    69\n",
       "19    68\n",
       "20    29\n",
       "51    29\n",
       "45    29\n",
       "46    29\n",
       "47    29\n",
       "48    29\n",
       "50    29\n",
       "52    29\n",
       "28    28\n",
       "54    28\n",
       "21    28\n",
       "27    28\n",
       "26    28\n",
       "49    28\n",
       "25    28\n",
       "24    28\n",
       "23    28\n",
       "22    28\n",
       "53    28\n",
       "42    27\n",
       "44    27\n",
       "43    27\n",
       "41    27\n",
       "40    27\n",
       "31    27\n",
       "30    27\n",
       "29    27\n",
       "56    26\n",
       "34    26\n",
       "33    26\n",
       "32    26\n",
       "57    26\n",
       "55    26\n",
       "35    25\n",
       "59    25\n",
       "58    25\n",
       "36    25\n",
       "39    25\n",
       "38    25\n",
       "37    25\n",
       "60    23\n",
       "61    23\n",
       "62    23\n",
       "63    23\n",
       "64    22\n",
       "Name: count, dtype: int64"
      ]
     },
     "execution_count": 91,
     "metadata": {},
     "output_type": "execute_result"
    }
   ],
   "execution_count": 91
  },
  {
   "metadata": {
    "ExecuteTime": {
     "end_time": "2025-03-23T01:49:16.935450Z",
     "start_time": "2025-03-23T01:49:16.925618Z"
    }
   },
   "cell_type": "code",
   "source": "df.isna().sum()",
   "id": "33f0b5f4ccaa131",
   "outputs": [
    {
     "data": {
      "text/plain": [
       "age               0\n",
       "gender            0\n",
       "bmi               0\n",
       "children          0\n",
       "smoker            0\n",
       "region            0\n",
       "insurance_cost    0\n",
       "dtype: int64"
      ]
     },
     "execution_count": 92,
     "metadata": {},
     "output_type": "execute_result"
    }
   ],
   "execution_count": 92
  },
  {
   "metadata": {},
   "cell_type": "markdown",
   "source": "We have no missing values in the dataset.\n",
   "id": "f608206967511269"
  },
  {
   "metadata": {
    "ExecuteTime": {
     "end_time": "2025-03-23T01:49:17.269853Z",
     "start_time": "2025-03-23T01:49:17.239238Z"
    }
   },
   "cell_type": "code",
   "source": "df.describe()",
   "id": "4e98ad0ef752aecb",
   "outputs": [
    {
     "data": {
      "text/plain": [
       "               age          bmi     children  insurance_cost\n",
       "count  1338.000000  1338.000000  1338.000000     1338.000000\n",
       "mean     39.207025    30.663397     1.094918    13270.422265\n",
       "std      14.049960     6.098187     1.205493    12110.011237\n",
       "min      18.000000    15.960000     0.000000     1121.873900\n",
       "25%      27.000000    26.296250     0.000000     4740.287150\n",
       "50%      39.000000    30.400000     1.000000     9382.033000\n",
       "75%      51.000000    34.693750     2.000000    16639.912515\n",
       "max      64.000000    53.130000     5.000000    63770.428010"
      ],
      "text/html": [
       "<div>\n",
       "<style scoped>\n",
       "    .dataframe tbody tr th:only-of-type {\n",
       "        vertical-align: middle;\n",
       "    }\n",
       "\n",
       "    .dataframe tbody tr th {\n",
       "        vertical-align: top;\n",
       "    }\n",
       "\n",
       "    .dataframe thead th {\n",
       "        text-align: right;\n",
       "    }\n",
       "</style>\n",
       "<table border=\"1\" class=\"dataframe\">\n",
       "  <thead>\n",
       "    <tr style=\"text-align: right;\">\n",
       "      <th></th>\n",
       "      <th>age</th>\n",
       "      <th>bmi</th>\n",
       "      <th>children</th>\n",
       "      <th>insurance_cost</th>\n",
       "    </tr>\n",
       "  </thead>\n",
       "  <tbody>\n",
       "    <tr>\n",
       "      <th>count</th>\n",
       "      <td>1338.000000</td>\n",
       "      <td>1338.000000</td>\n",
       "      <td>1338.000000</td>\n",
       "      <td>1338.000000</td>\n",
       "    </tr>\n",
       "    <tr>\n",
       "      <th>mean</th>\n",
       "      <td>39.207025</td>\n",
       "      <td>30.663397</td>\n",
       "      <td>1.094918</td>\n",
       "      <td>13270.422265</td>\n",
       "    </tr>\n",
       "    <tr>\n",
       "      <th>std</th>\n",
       "      <td>14.049960</td>\n",
       "      <td>6.098187</td>\n",
       "      <td>1.205493</td>\n",
       "      <td>12110.011237</td>\n",
       "    </tr>\n",
       "    <tr>\n",
       "      <th>min</th>\n",
       "      <td>18.000000</td>\n",
       "      <td>15.960000</td>\n",
       "      <td>0.000000</td>\n",
       "      <td>1121.873900</td>\n",
       "    </tr>\n",
       "    <tr>\n",
       "      <th>25%</th>\n",
       "      <td>27.000000</td>\n",
       "      <td>26.296250</td>\n",
       "      <td>0.000000</td>\n",
       "      <td>4740.287150</td>\n",
       "    </tr>\n",
       "    <tr>\n",
       "      <th>50%</th>\n",
       "      <td>39.000000</td>\n",
       "      <td>30.400000</td>\n",
       "      <td>1.000000</td>\n",
       "      <td>9382.033000</td>\n",
       "    </tr>\n",
       "    <tr>\n",
       "      <th>75%</th>\n",
       "      <td>51.000000</td>\n",
       "      <td>34.693750</td>\n",
       "      <td>2.000000</td>\n",
       "      <td>16639.912515</td>\n",
       "    </tr>\n",
       "    <tr>\n",
       "      <th>max</th>\n",
       "      <td>64.000000</td>\n",
       "      <td>53.130000</td>\n",
       "      <td>5.000000</td>\n",
       "      <td>63770.428010</td>\n",
       "    </tr>\n",
       "  </tbody>\n",
       "</table>\n",
       "</div>"
      ]
     },
     "execution_count": 93,
     "metadata": {},
     "output_type": "execute_result"
    }
   ],
   "execution_count": 93
  },
  {
   "metadata": {},
   "cell_type": "markdown",
   "source": [
    "From the describe of the dataset, we can see some interesting things that might be worth exploring further:\n",
    "- The age of the people in the dataset ranges from 18 to 64, see how many people are in each age group.\n",
    "- The number of children ranges from 0 to 5, but the Standard Deviation is 1.2, which means that the majority of people have 0 or 1 children."
   ],
   "id": "ba9638d46ba3ed56"
  },
  {
   "metadata": {
    "ExecuteTime": {
     "end_time": "2025-03-23T01:49:17.606141Z",
     "start_time": "2025-03-23T01:49:17.587761Z"
    }
   },
   "cell_type": "code",
   "source": "df[df.children == 0]",
   "id": "fffe016e2d9bbe8a",
   "outputs": [
    {
     "data": {
      "text/plain": [
       "      age  gender     bmi  children smoker     region  insurance_cost\n",
       "1      18    male  34.100         0     no  southeast      1137.01100\n",
       "2      18  female  26.315         0     no  northeast      2198.18985\n",
       "4      18  female  35.625         0     no  northeast      2211.13075\n",
       "6      18  female  30.115         0     no  northeast     21344.84670\n",
       "7      18    male  23.750         0     no  northeast      1705.62450\n",
       "...   ...     ...     ...       ...    ...        ...             ...\n",
       "1331   64  female  39.700         0     no  southwest     14319.03100\n",
       "1332   64  female  35.970         0     no  southeast     14313.84630\n",
       "1334   64  female  26.885         0    yes  northwest     29330.98315\n",
       "1335   64    male  26.410         0     no  northeast     14394.55790\n",
       "1337   64    male  23.760         0    yes  southeast     26926.51440\n",
       "\n",
       "[574 rows x 7 columns]"
      ],
      "text/html": [
       "<div>\n",
       "<style scoped>\n",
       "    .dataframe tbody tr th:only-of-type {\n",
       "        vertical-align: middle;\n",
       "    }\n",
       "\n",
       "    .dataframe tbody tr th {\n",
       "        vertical-align: top;\n",
       "    }\n",
       "\n",
       "    .dataframe thead th {\n",
       "        text-align: right;\n",
       "    }\n",
       "</style>\n",
       "<table border=\"1\" class=\"dataframe\">\n",
       "  <thead>\n",
       "    <tr style=\"text-align: right;\">\n",
       "      <th></th>\n",
       "      <th>age</th>\n",
       "      <th>gender</th>\n",
       "      <th>bmi</th>\n",
       "      <th>children</th>\n",
       "      <th>smoker</th>\n",
       "      <th>region</th>\n",
       "      <th>insurance_cost</th>\n",
       "    </tr>\n",
       "  </thead>\n",
       "  <tbody>\n",
       "    <tr>\n",
       "      <th>1</th>\n",
       "      <td>18</td>\n",
       "      <td>male</td>\n",
       "      <td>34.100</td>\n",
       "      <td>0</td>\n",
       "      <td>no</td>\n",
       "      <td>southeast</td>\n",
       "      <td>1137.01100</td>\n",
       "    </tr>\n",
       "    <tr>\n",
       "      <th>2</th>\n",
       "      <td>18</td>\n",
       "      <td>female</td>\n",
       "      <td>26.315</td>\n",
       "      <td>0</td>\n",
       "      <td>no</td>\n",
       "      <td>northeast</td>\n",
       "      <td>2198.18985</td>\n",
       "    </tr>\n",
       "    <tr>\n",
       "      <th>4</th>\n",
       "      <td>18</td>\n",
       "      <td>female</td>\n",
       "      <td>35.625</td>\n",
       "      <td>0</td>\n",
       "      <td>no</td>\n",
       "      <td>northeast</td>\n",
       "      <td>2211.13075</td>\n",
       "    </tr>\n",
       "    <tr>\n",
       "      <th>6</th>\n",
       "      <td>18</td>\n",
       "      <td>female</td>\n",
       "      <td>30.115</td>\n",
       "      <td>0</td>\n",
       "      <td>no</td>\n",
       "      <td>northeast</td>\n",
       "      <td>21344.84670</td>\n",
       "    </tr>\n",
       "    <tr>\n",
       "      <th>7</th>\n",
       "      <td>18</td>\n",
       "      <td>male</td>\n",
       "      <td>23.750</td>\n",
       "      <td>0</td>\n",
       "      <td>no</td>\n",
       "      <td>northeast</td>\n",
       "      <td>1705.62450</td>\n",
       "    </tr>\n",
       "    <tr>\n",
       "      <th>...</th>\n",
       "      <td>...</td>\n",
       "      <td>...</td>\n",
       "      <td>...</td>\n",
       "      <td>...</td>\n",
       "      <td>...</td>\n",
       "      <td>...</td>\n",
       "      <td>...</td>\n",
       "    </tr>\n",
       "    <tr>\n",
       "      <th>1331</th>\n",
       "      <td>64</td>\n",
       "      <td>female</td>\n",
       "      <td>39.700</td>\n",
       "      <td>0</td>\n",
       "      <td>no</td>\n",
       "      <td>southwest</td>\n",
       "      <td>14319.03100</td>\n",
       "    </tr>\n",
       "    <tr>\n",
       "      <th>1332</th>\n",
       "      <td>64</td>\n",
       "      <td>female</td>\n",
       "      <td>35.970</td>\n",
       "      <td>0</td>\n",
       "      <td>no</td>\n",
       "      <td>southeast</td>\n",
       "      <td>14313.84630</td>\n",
       "    </tr>\n",
       "    <tr>\n",
       "      <th>1334</th>\n",
       "      <td>64</td>\n",
       "      <td>female</td>\n",
       "      <td>26.885</td>\n",
       "      <td>0</td>\n",
       "      <td>yes</td>\n",
       "      <td>northwest</td>\n",
       "      <td>29330.98315</td>\n",
       "    </tr>\n",
       "    <tr>\n",
       "      <th>1335</th>\n",
       "      <td>64</td>\n",
       "      <td>male</td>\n",
       "      <td>26.410</td>\n",
       "      <td>0</td>\n",
       "      <td>no</td>\n",
       "      <td>northeast</td>\n",
       "      <td>14394.55790</td>\n",
       "    </tr>\n",
       "    <tr>\n",
       "      <th>1337</th>\n",
       "      <td>64</td>\n",
       "      <td>male</td>\n",
       "      <td>23.760</td>\n",
       "      <td>0</td>\n",
       "      <td>yes</td>\n",
       "      <td>southeast</td>\n",
       "      <td>26926.51440</td>\n",
       "    </tr>\n",
       "  </tbody>\n",
       "</table>\n",
       "<p>574 rows × 7 columns</p>\n",
       "</div>"
      ]
     },
     "execution_count": 94,
     "metadata": {},
     "output_type": "execute_result"
    }
   ],
   "execution_count": 94
  },
  {
   "metadata": {
    "ExecuteTime": {
     "end_time": "2025-03-23T01:49:18.088586Z",
     "start_time": "2025-03-23T01:49:18.074385Z"
    }
   },
   "cell_type": "code",
   "source": "df[df.children == 5]",
   "id": "63c53f524714f461",
   "outputs": [
    {
     "data": {
      "text/plain": [
       "      age  gender     bmi  children smoker     region  insurance_cost\n",
       "71     19  female  28.600         5     no  southwest      4687.79700\n",
       "141    20  female  37.000         5     no  southwest      4830.63000\n",
       "155    20    male  30.115         5     no  northeast      4915.05985\n",
       "284    25    male  23.900         5     no  southwest      5080.09600\n",
       "386    28    male  24.300         5     no  southwest      5615.36900\n",
       "447    31    male  28.500         5     no  northeast      6799.45800\n",
       "506    33    male  42.400         5     no  southwest      6666.24300\n",
       "513    33    male  33.440         5     no  southeast      6653.78860\n",
       "663    39  female  24.225         5     no  northwest      8965.79575\n",
       "664    39  female  34.320         5     no  southeast      8596.82780\n",
       "668    39  female  18.300         5    yes  southwest     19023.26000\n",
       "669    39  female  23.870         5     no  southeast      8582.30230\n",
       "720    41    male  29.640         5     no  northeast      9222.40260\n",
       "780    43    male  25.520         5     no  southeast     14478.33015\n",
       "815    45    male  24.310         5     no  southeast      9788.86590\n",
       "860    46    male  25.800         5     no  southwest     10096.97000\n",
       "936    49  female  31.900         5     no  southwest     11552.90400\n",
       "1022   52  female  46.750         5     no  southeast     12592.53450"
      ],
      "text/html": [
       "<div>\n",
       "<style scoped>\n",
       "    .dataframe tbody tr th:only-of-type {\n",
       "        vertical-align: middle;\n",
       "    }\n",
       "\n",
       "    .dataframe tbody tr th {\n",
       "        vertical-align: top;\n",
       "    }\n",
       "\n",
       "    .dataframe thead th {\n",
       "        text-align: right;\n",
       "    }\n",
       "</style>\n",
       "<table border=\"1\" class=\"dataframe\">\n",
       "  <thead>\n",
       "    <tr style=\"text-align: right;\">\n",
       "      <th></th>\n",
       "      <th>age</th>\n",
       "      <th>gender</th>\n",
       "      <th>bmi</th>\n",
       "      <th>children</th>\n",
       "      <th>smoker</th>\n",
       "      <th>region</th>\n",
       "      <th>insurance_cost</th>\n",
       "    </tr>\n",
       "  </thead>\n",
       "  <tbody>\n",
       "    <tr>\n",
       "      <th>71</th>\n",
       "      <td>19</td>\n",
       "      <td>female</td>\n",
       "      <td>28.600</td>\n",
       "      <td>5</td>\n",
       "      <td>no</td>\n",
       "      <td>southwest</td>\n",
       "      <td>4687.79700</td>\n",
       "    </tr>\n",
       "    <tr>\n",
       "      <th>141</th>\n",
       "      <td>20</td>\n",
       "      <td>female</td>\n",
       "      <td>37.000</td>\n",
       "      <td>5</td>\n",
       "      <td>no</td>\n",
       "      <td>southwest</td>\n",
       "      <td>4830.63000</td>\n",
       "    </tr>\n",
       "    <tr>\n",
       "      <th>155</th>\n",
       "      <td>20</td>\n",
       "      <td>male</td>\n",
       "      <td>30.115</td>\n",
       "      <td>5</td>\n",
       "      <td>no</td>\n",
       "      <td>northeast</td>\n",
       "      <td>4915.05985</td>\n",
       "    </tr>\n",
       "    <tr>\n",
       "      <th>284</th>\n",
       "      <td>25</td>\n",
       "      <td>male</td>\n",
       "      <td>23.900</td>\n",
       "      <td>5</td>\n",
       "      <td>no</td>\n",
       "      <td>southwest</td>\n",
       "      <td>5080.09600</td>\n",
       "    </tr>\n",
       "    <tr>\n",
       "      <th>386</th>\n",
       "      <td>28</td>\n",
       "      <td>male</td>\n",
       "      <td>24.300</td>\n",
       "      <td>5</td>\n",
       "      <td>no</td>\n",
       "      <td>southwest</td>\n",
       "      <td>5615.36900</td>\n",
       "    </tr>\n",
       "    <tr>\n",
       "      <th>447</th>\n",
       "      <td>31</td>\n",
       "      <td>male</td>\n",
       "      <td>28.500</td>\n",
       "      <td>5</td>\n",
       "      <td>no</td>\n",
       "      <td>northeast</td>\n",
       "      <td>6799.45800</td>\n",
       "    </tr>\n",
       "    <tr>\n",
       "      <th>506</th>\n",
       "      <td>33</td>\n",
       "      <td>male</td>\n",
       "      <td>42.400</td>\n",
       "      <td>5</td>\n",
       "      <td>no</td>\n",
       "      <td>southwest</td>\n",
       "      <td>6666.24300</td>\n",
       "    </tr>\n",
       "    <tr>\n",
       "      <th>513</th>\n",
       "      <td>33</td>\n",
       "      <td>male</td>\n",
       "      <td>33.440</td>\n",
       "      <td>5</td>\n",
       "      <td>no</td>\n",
       "      <td>southeast</td>\n",
       "      <td>6653.78860</td>\n",
       "    </tr>\n",
       "    <tr>\n",
       "      <th>663</th>\n",
       "      <td>39</td>\n",
       "      <td>female</td>\n",
       "      <td>24.225</td>\n",
       "      <td>5</td>\n",
       "      <td>no</td>\n",
       "      <td>northwest</td>\n",
       "      <td>8965.79575</td>\n",
       "    </tr>\n",
       "    <tr>\n",
       "      <th>664</th>\n",
       "      <td>39</td>\n",
       "      <td>female</td>\n",
       "      <td>34.320</td>\n",
       "      <td>5</td>\n",
       "      <td>no</td>\n",
       "      <td>southeast</td>\n",
       "      <td>8596.82780</td>\n",
       "    </tr>\n",
       "    <tr>\n",
       "      <th>668</th>\n",
       "      <td>39</td>\n",
       "      <td>female</td>\n",
       "      <td>18.300</td>\n",
       "      <td>5</td>\n",
       "      <td>yes</td>\n",
       "      <td>southwest</td>\n",
       "      <td>19023.26000</td>\n",
       "    </tr>\n",
       "    <tr>\n",
       "      <th>669</th>\n",
       "      <td>39</td>\n",
       "      <td>female</td>\n",
       "      <td>23.870</td>\n",
       "      <td>5</td>\n",
       "      <td>no</td>\n",
       "      <td>southeast</td>\n",
       "      <td>8582.30230</td>\n",
       "    </tr>\n",
       "    <tr>\n",
       "      <th>720</th>\n",
       "      <td>41</td>\n",
       "      <td>male</td>\n",
       "      <td>29.640</td>\n",
       "      <td>5</td>\n",
       "      <td>no</td>\n",
       "      <td>northeast</td>\n",
       "      <td>9222.40260</td>\n",
       "    </tr>\n",
       "    <tr>\n",
       "      <th>780</th>\n",
       "      <td>43</td>\n",
       "      <td>male</td>\n",
       "      <td>25.520</td>\n",
       "      <td>5</td>\n",
       "      <td>no</td>\n",
       "      <td>southeast</td>\n",
       "      <td>14478.33015</td>\n",
       "    </tr>\n",
       "    <tr>\n",
       "      <th>815</th>\n",
       "      <td>45</td>\n",
       "      <td>male</td>\n",
       "      <td>24.310</td>\n",
       "      <td>5</td>\n",
       "      <td>no</td>\n",
       "      <td>southeast</td>\n",
       "      <td>9788.86590</td>\n",
       "    </tr>\n",
       "    <tr>\n",
       "      <th>860</th>\n",
       "      <td>46</td>\n",
       "      <td>male</td>\n",
       "      <td>25.800</td>\n",
       "      <td>5</td>\n",
       "      <td>no</td>\n",
       "      <td>southwest</td>\n",
       "      <td>10096.97000</td>\n",
       "    </tr>\n",
       "    <tr>\n",
       "      <th>936</th>\n",
       "      <td>49</td>\n",
       "      <td>female</td>\n",
       "      <td>31.900</td>\n",
       "      <td>5</td>\n",
       "      <td>no</td>\n",
       "      <td>southwest</td>\n",
       "      <td>11552.90400</td>\n",
       "    </tr>\n",
       "    <tr>\n",
       "      <th>1022</th>\n",
       "      <td>52</td>\n",
       "      <td>female</td>\n",
       "      <td>46.750</td>\n",
       "      <td>5</td>\n",
       "      <td>no</td>\n",
       "      <td>southeast</td>\n",
       "      <td>12592.53450</td>\n",
       "    </tr>\n",
       "  </tbody>\n",
       "</table>\n",
       "</div>"
      ]
     },
     "execution_count": 95,
     "metadata": {},
     "output_type": "execute_result"
    }
   ],
   "execution_count": 95
  },
  {
   "metadata": {},
   "cell_type": "markdown",
   "source": "There is 574 people with 0 children and 18 people with 5 children. Seems to be left skewed.",
   "id": "716df06d26346b8c"
  },
  {
   "metadata": {
    "ExecuteTime": {
     "end_time": "2025-03-23T01:49:18.579129Z",
     "start_time": "2025-03-23T01:49:18.564625Z"
    }
   },
   "cell_type": "code",
   "source": "df[df.age == 64]",
   "id": "3f8f713d094cf267",
   "outputs": [
    {
     "data": {
      "text/plain": [
       "      age  gender     bmi  children smoker     region  insurance_cost\n",
       "1316   64    male  24.700         1     no  northwest     30166.61817\n",
       "1317   64  female  31.300         2    yes  southwest     47291.05500\n",
       "1318   64  female  39.330         0     no  northeast     14901.51670\n",
       "1319   64  female  33.800         1    yes  southwest     47928.03000\n",
       "1320   64    male  34.500         0     no  southwest     13822.80300\n",
       "1321   64  female  30.115         3     no  northwest     16455.70785\n",
       "1322   64    male  25.600         2     no  southwest     14988.43200\n",
       "1323   64  female  32.965         0     no  northwest     14692.66935\n",
       "1324   64    male  39.160         1     no  southeast     14418.28040\n",
       "1325   64    male  33.880         0    yes  southeast     46889.26120\n",
       "1326   64    male  40.480         0     no  southeast     13831.11520\n",
       "1327   64  female  39.050         3     no  southeast     16085.12750\n",
       "1328   64    male  38.190         0     no  northeast     14410.93210\n",
       "1329   64  female  22.990         0    yes  southeast     27037.91410\n",
       "1330   64    male  37.905         0     no  northwest     14210.53595\n",
       "1331   64  female  39.700         0     no  southwest     14319.03100\n",
       "1332   64  female  35.970         0     no  southeast     14313.84630\n",
       "1333   64  female  31.825         2     no  northeast     16069.08475\n",
       "1334   64  female  26.885         0    yes  northwest     29330.98315\n",
       "1335   64    male  26.410         0     no  northeast     14394.55790\n",
       "1336   64    male  36.960         2    yes  southeast     49577.66240\n",
       "1337   64    male  23.760         0    yes  southeast     26926.51440"
      ],
      "text/html": [
       "<div>\n",
       "<style scoped>\n",
       "    .dataframe tbody tr th:only-of-type {\n",
       "        vertical-align: middle;\n",
       "    }\n",
       "\n",
       "    .dataframe tbody tr th {\n",
       "        vertical-align: top;\n",
       "    }\n",
       "\n",
       "    .dataframe thead th {\n",
       "        text-align: right;\n",
       "    }\n",
       "</style>\n",
       "<table border=\"1\" class=\"dataframe\">\n",
       "  <thead>\n",
       "    <tr style=\"text-align: right;\">\n",
       "      <th></th>\n",
       "      <th>age</th>\n",
       "      <th>gender</th>\n",
       "      <th>bmi</th>\n",
       "      <th>children</th>\n",
       "      <th>smoker</th>\n",
       "      <th>region</th>\n",
       "      <th>insurance_cost</th>\n",
       "    </tr>\n",
       "  </thead>\n",
       "  <tbody>\n",
       "    <tr>\n",
       "      <th>1316</th>\n",
       "      <td>64</td>\n",
       "      <td>male</td>\n",
       "      <td>24.700</td>\n",
       "      <td>1</td>\n",
       "      <td>no</td>\n",
       "      <td>northwest</td>\n",
       "      <td>30166.61817</td>\n",
       "    </tr>\n",
       "    <tr>\n",
       "      <th>1317</th>\n",
       "      <td>64</td>\n",
       "      <td>female</td>\n",
       "      <td>31.300</td>\n",
       "      <td>2</td>\n",
       "      <td>yes</td>\n",
       "      <td>southwest</td>\n",
       "      <td>47291.05500</td>\n",
       "    </tr>\n",
       "    <tr>\n",
       "      <th>1318</th>\n",
       "      <td>64</td>\n",
       "      <td>female</td>\n",
       "      <td>39.330</td>\n",
       "      <td>0</td>\n",
       "      <td>no</td>\n",
       "      <td>northeast</td>\n",
       "      <td>14901.51670</td>\n",
       "    </tr>\n",
       "    <tr>\n",
       "      <th>1319</th>\n",
       "      <td>64</td>\n",
       "      <td>female</td>\n",
       "      <td>33.800</td>\n",
       "      <td>1</td>\n",
       "      <td>yes</td>\n",
       "      <td>southwest</td>\n",
       "      <td>47928.03000</td>\n",
       "    </tr>\n",
       "    <tr>\n",
       "      <th>1320</th>\n",
       "      <td>64</td>\n",
       "      <td>male</td>\n",
       "      <td>34.500</td>\n",
       "      <td>0</td>\n",
       "      <td>no</td>\n",
       "      <td>southwest</td>\n",
       "      <td>13822.80300</td>\n",
       "    </tr>\n",
       "    <tr>\n",
       "      <th>1321</th>\n",
       "      <td>64</td>\n",
       "      <td>female</td>\n",
       "      <td>30.115</td>\n",
       "      <td>3</td>\n",
       "      <td>no</td>\n",
       "      <td>northwest</td>\n",
       "      <td>16455.70785</td>\n",
       "    </tr>\n",
       "    <tr>\n",
       "      <th>1322</th>\n",
       "      <td>64</td>\n",
       "      <td>male</td>\n",
       "      <td>25.600</td>\n",
       "      <td>2</td>\n",
       "      <td>no</td>\n",
       "      <td>southwest</td>\n",
       "      <td>14988.43200</td>\n",
       "    </tr>\n",
       "    <tr>\n",
       "      <th>1323</th>\n",
       "      <td>64</td>\n",
       "      <td>female</td>\n",
       "      <td>32.965</td>\n",
       "      <td>0</td>\n",
       "      <td>no</td>\n",
       "      <td>northwest</td>\n",
       "      <td>14692.66935</td>\n",
       "    </tr>\n",
       "    <tr>\n",
       "      <th>1324</th>\n",
       "      <td>64</td>\n",
       "      <td>male</td>\n",
       "      <td>39.160</td>\n",
       "      <td>1</td>\n",
       "      <td>no</td>\n",
       "      <td>southeast</td>\n",
       "      <td>14418.28040</td>\n",
       "    </tr>\n",
       "    <tr>\n",
       "      <th>1325</th>\n",
       "      <td>64</td>\n",
       "      <td>male</td>\n",
       "      <td>33.880</td>\n",
       "      <td>0</td>\n",
       "      <td>yes</td>\n",
       "      <td>southeast</td>\n",
       "      <td>46889.26120</td>\n",
       "    </tr>\n",
       "    <tr>\n",
       "      <th>1326</th>\n",
       "      <td>64</td>\n",
       "      <td>male</td>\n",
       "      <td>40.480</td>\n",
       "      <td>0</td>\n",
       "      <td>no</td>\n",
       "      <td>southeast</td>\n",
       "      <td>13831.11520</td>\n",
       "    </tr>\n",
       "    <tr>\n",
       "      <th>1327</th>\n",
       "      <td>64</td>\n",
       "      <td>female</td>\n",
       "      <td>39.050</td>\n",
       "      <td>3</td>\n",
       "      <td>no</td>\n",
       "      <td>southeast</td>\n",
       "      <td>16085.12750</td>\n",
       "    </tr>\n",
       "    <tr>\n",
       "      <th>1328</th>\n",
       "      <td>64</td>\n",
       "      <td>male</td>\n",
       "      <td>38.190</td>\n",
       "      <td>0</td>\n",
       "      <td>no</td>\n",
       "      <td>northeast</td>\n",
       "      <td>14410.93210</td>\n",
       "    </tr>\n",
       "    <tr>\n",
       "      <th>1329</th>\n",
       "      <td>64</td>\n",
       "      <td>female</td>\n",
       "      <td>22.990</td>\n",
       "      <td>0</td>\n",
       "      <td>yes</td>\n",
       "      <td>southeast</td>\n",
       "      <td>27037.91410</td>\n",
       "    </tr>\n",
       "    <tr>\n",
       "      <th>1330</th>\n",
       "      <td>64</td>\n",
       "      <td>male</td>\n",
       "      <td>37.905</td>\n",
       "      <td>0</td>\n",
       "      <td>no</td>\n",
       "      <td>northwest</td>\n",
       "      <td>14210.53595</td>\n",
       "    </tr>\n",
       "    <tr>\n",
       "      <th>1331</th>\n",
       "      <td>64</td>\n",
       "      <td>female</td>\n",
       "      <td>39.700</td>\n",
       "      <td>0</td>\n",
       "      <td>no</td>\n",
       "      <td>southwest</td>\n",
       "      <td>14319.03100</td>\n",
       "    </tr>\n",
       "    <tr>\n",
       "      <th>1332</th>\n",
       "      <td>64</td>\n",
       "      <td>female</td>\n",
       "      <td>35.970</td>\n",
       "      <td>0</td>\n",
       "      <td>no</td>\n",
       "      <td>southeast</td>\n",
       "      <td>14313.84630</td>\n",
       "    </tr>\n",
       "    <tr>\n",
       "      <th>1333</th>\n",
       "      <td>64</td>\n",
       "      <td>female</td>\n",
       "      <td>31.825</td>\n",
       "      <td>2</td>\n",
       "      <td>no</td>\n",
       "      <td>northeast</td>\n",
       "      <td>16069.08475</td>\n",
       "    </tr>\n",
       "    <tr>\n",
       "      <th>1334</th>\n",
       "      <td>64</td>\n",
       "      <td>female</td>\n",
       "      <td>26.885</td>\n",
       "      <td>0</td>\n",
       "      <td>yes</td>\n",
       "      <td>northwest</td>\n",
       "      <td>29330.98315</td>\n",
       "    </tr>\n",
       "    <tr>\n",
       "      <th>1335</th>\n",
       "      <td>64</td>\n",
       "      <td>male</td>\n",
       "      <td>26.410</td>\n",
       "      <td>0</td>\n",
       "      <td>no</td>\n",
       "      <td>northeast</td>\n",
       "      <td>14394.55790</td>\n",
       "    </tr>\n",
       "    <tr>\n",
       "      <th>1336</th>\n",
       "      <td>64</td>\n",
       "      <td>male</td>\n",
       "      <td>36.960</td>\n",
       "      <td>2</td>\n",
       "      <td>yes</td>\n",
       "      <td>southeast</td>\n",
       "      <td>49577.66240</td>\n",
       "    </tr>\n",
       "    <tr>\n",
       "      <th>1337</th>\n",
       "      <td>64</td>\n",
       "      <td>male</td>\n",
       "      <td>23.760</td>\n",
       "      <td>0</td>\n",
       "      <td>yes</td>\n",
       "      <td>southeast</td>\n",
       "      <td>26926.51440</td>\n",
       "    </tr>\n",
       "  </tbody>\n",
       "</table>\n",
       "</div>"
      ]
     },
     "execution_count": 96,
     "metadata": {},
     "output_type": "execute_result"
    }
   ],
   "execution_count": 96
  },
  {
   "metadata": {},
   "cell_type": "markdown",
   "source": "There are 22 people with the age of 64. Probably a good idea to keep this in the dataset.",
   "id": "f97eeaee34635419"
  },
  {
   "metadata": {
    "ExecuteTime": {
     "end_time": "2025-03-23T01:49:19.209144Z",
     "start_time": "2025-03-23T01:49:18.982165Z"
    }
   },
   "cell_type": "code",
   "source": [
    "df.drop('insurance_cost', axis=1).boxplot(figsize=(20, 5))\n",
    "plt.show()"
   ],
   "id": "649af126207ad4dc",
   "outputs": [
    {
     "data": {
      "text/plain": [
       "<Figure size 2000x500 with 1 Axes>"
      ],
      "image/png": "[encoded data removed]"
     },
     "metadata": {},
     "output_type": "display_data"
    }
   ],
   "execution_count": 97
  },
  {
   "metadata": {},
   "cell_type": "markdown",
   "source": "BMI seems to have some outliers. We can see that the majority of the people have a BMI between 25 and 35, but there are some people with a BMI of over 50. ",
   "id": "5cb0382f8e2644b"
  },
  {
   "metadata": {
    "ExecuteTime": {
     "end_time": "2025-03-23T01:49:20.430243Z",
     "start_time": "2025-03-23T01:49:19.458790Z"
    }
   },
   "cell_type": "code",
   "source": [
    "df.drop('insurance_cost', axis=1).hist(bins=10, figsize=(25, 20))\n",
    "plt.show()"
   ],
   "id": "b52abe84fde28365",
   "outputs": [
    {
     "data": {
      "text/plain": [
       "<Figure size 2500x2000 with 4 Axes>"
      ],
      "image/png": "[encoded data removed]"
     },
     "metadata": {},
     "output_type": "display_data"
    }
   ],
   "execution_count": 98
  },
  {
   "metadata": {},
   "cell_type": "markdown",
   "source": "We can see that the age and the number of children are right skewed, while the BMI is close to a normal distribution.",
   "id": "cf88b0e5c08eba09"
  },
  {
   "metadata": {
    "ExecuteTime": {
     "end_time": "2025-03-23T01:49:20.633616Z",
     "start_time": "2025-03-23T01:49:20.485997Z"
    }
   },
   "cell_type": "code",
   "source": [
    "df.boxplot(column='insurance_cost', figsize=(10, 5))\n",
    "plt.show()"
   ],
   "id": "f2f5fd179fec776a",
   "outputs": [
    {
     "data": {
      "text/plain": [
       "<Figure size 1000x500 with 1 Axes>"
      ],
      "image/png": "[encoded data removed]"
     },
     "metadata": {},
     "output_type": "display_data"
    }
   ],
   "execution_count": 99
  },
  {
   "metadata": {},
   "cell_type": "markdown",
   "source": "The insurance costs has a lot of outliers. We can see that the majority of the people have an insurance cost of less than 10,000, but there are some people with an insurance cost of over 35,000.",
   "id": "5ceef54864428b70"
  },
  {
   "metadata": {
    "ExecuteTime": {
     "end_time": "2025-03-23T01:49:21.244566Z",
     "start_time": "2025-03-23T01:49:20.948732Z"
    }
   },
   "cell_type": "code",
   "source": [
    "df['insurance_cost'].hist(bins=50)\n",
    "plt.show()"
   ],
   "id": "5781e6c4ed5becd0",
   "outputs": [
    {
     "data": {
      "text/plain": [
       "<Figure size 640x480 with 1 Axes>"
      ],
      "image/png": "[encoded data removed]"
     },
     "metadata": {},
     "output_type": "display_data"
    }
   ],
   "execution_count": 100
  },
  {
   "metadata": {},
   "cell_type": "markdown",
   "source": "The insurance cost is right skewed. We will normalize this column in the preprocessing step.",
   "id": "5e9ede12cdf6ecd1"
  },
  {
   "metadata": {},
   "cell_type": "markdown",
   "source": "## Data Preparation",
   "id": "6d52148b1dffe825"
  },
  {
   "metadata": {
    "ExecuteTime": {
     "end_time": "2025-03-23T01:49:21.522748Z",
     "start_time": "2025-03-23T01:49:21.505407Z"
    }
   },
   "cell_type": "code",
   "source": [
    "y = df['insurance_cost']\n",
    "X = df.drop('insurance_cost', axis=1)"
   ],
   "id": "f36249ef0cfc8eed",
   "outputs": [],
   "execution_count": 101
  },
  {
   "metadata": {
    "ExecuteTime": {
     "end_time": "2025-03-23T01:49:21.891148Z",
     "start_time": "2025-03-23T01:49:21.880723Z"
    }
   },
   "cell_type": "code",
   "source": [
    "preprocess_pipeline = ColumnTransformer(\n",
    "    transformers=[\n",
    "        (\"no_outliers\", StandardScaler(), ['age', 'children']),\n",
    "        (\"categorical\", OneHotEncoder(drop='first', sparse_output=False), ['smoker', 'region', 'gender'])\n",
    "    ],\n",
    "    remainder=RobustScaler()  # bmi\n",
    ").set_output(transform=\"pandas\")\n"
   ],
   "id": "298750516272fc12",
   "outputs": [],
   "execution_count": 102
  },
  {
   "metadata": {
    "ExecuteTime": {
     "end_time": "2025-03-23T01:49:22.430636Z",
     "start_time": "2025-03-23T01:49:22.403550Z"
    }
   },
   "cell_type": "code",
   "source": "X_transformed = preprocess_pipeline.fit_transform(X);",
   "id": "55aacb63e8ff19dd",
   "outputs": [],
   "execution_count": 103
  },
  {
   "metadata": {
    "ExecuteTime": {
     "end_time": "2025-03-23T01:49:22.471882Z",
     "start_time": "2025-03-23T01:49:22.452188Z"
    }
   },
   "cell_type": "code",
   "source": "X_transformed.head()",
   "id": "5035293bcf95cbd4",
   "outputs": [
    {
     "data": {
      "text/plain": [
       "   no_outliers__age  no_outliers__children  categorical__smoker_yes  \\\n",
       "0         -1.509965              -0.078767                      0.0   \n",
       "1         -1.509965              -0.908614                      0.0   \n",
       "2         -1.509965              -0.908614                      0.0   \n",
       "3         -1.509965               0.751079                      0.0   \n",
       "4         -1.509965              -0.908614                      0.0   \n",
       "\n",
       "   categorical__region_northwest  categorical__region_southeast  \\\n",
       "0                            0.0                            1.0   \n",
       "1                            0.0                            1.0   \n",
       "2                            0.0                            0.0   \n",
       "3                            0.0                            0.0   \n",
       "4                            0.0                            0.0   \n",
       "\n",
       "   categorical__region_southwest  categorical__gender_male  remainder__bmi  \n",
       "0                            0.0                       1.0        0.401310  \n",
       "1                            0.0                       1.0        0.440607  \n",
       "2                            0.0                       0.0       -0.486454  \n",
       "3                            0.0                       0.0        0.984221  \n",
       "4                            0.0                       0.0        0.622209  "
      ],
      "text/html": [
       "<div>\n",
       "<style scoped>\n",
       "    .dataframe tbody tr th:only-of-type {\n",
       "        vertical-align: middle;\n",
       "    }\n",
       "\n",
       "    .dataframe tbody tr th {\n",
       "        vertical-align: top;\n",
       "    }\n",
       "\n",
       "    .dataframe thead th {\n",
       "        text-align: right;\n",
       "    }\n",
       "</style>\n",
       "<table border=\"1\" class=\"dataframe\">\n",
       "  <thead>\n",
       "    <tr style=\"text-align: right;\">\n",
       "      <th></th>\n",
       "      <th>no_outliers__age</th>\n",
       "      <th>no_outliers__children</th>\n",
       "      <th>categorical__smoker_yes</th>\n",
       "      <th>categorical__region_northwest</th>\n",
       "      <th>categorical__region_southeast</th>\n",
       "      <th>categorical__region_southwest</th>\n",
       "      <th>categorical__gender_male</th>\n",
       "      <th>remainder__bmi</th>\n",
       "    </tr>\n",
       "  </thead>\n",
       "  <tbody>\n",
       "    <tr>\n",
       "      <th>0</th>\n",
       "      <td>-1.509965</td>\n",
       "      <td>-0.078767</td>\n",
       "      <td>0.0</td>\n",
       "      <td>0.0</td>\n",
       "      <td>1.0</td>\n",
       "      <td>0.0</td>\n",
       "      <td>1.0</td>\n",
       "      <td>0.401310</td>\n",
       "    </tr>\n",
       "    <tr>\n",
       "      <th>1</th>\n",
       "      <td>-1.509965</td>\n",
       "      <td>-0.908614</td>\n",
       "      <td>0.0</td>\n",
       "      <td>0.0</td>\n",
       "      <td>1.0</td>\n",
       "      <td>0.0</td>\n",
       "      <td>1.0</td>\n",
       "      <td>0.440607</td>\n",
       "    </tr>\n",
       "    <tr>\n",
       "      <th>2</th>\n",
       "      <td>-1.509965</td>\n",
       "      <td>-0.908614</td>\n",
       "      <td>0.0</td>\n",
       "      <td>0.0</td>\n",
       "      <td>0.0</td>\n",
       "      <td>0.0</td>\n",
       "      <td>0.0</td>\n",
       "      <td>-0.486454</td>\n",
       "    </tr>\n",
       "    <tr>\n",
       "      <th>3</th>\n",
       "      <td>-1.509965</td>\n",
       "      <td>0.751079</td>\n",
       "      <td>0.0</td>\n",
       "      <td>0.0</td>\n",
       "      <td>0.0</td>\n",
       "      <td>0.0</td>\n",
       "      <td>0.0</td>\n",
       "      <td>0.984221</td>\n",
       "    </tr>\n",
       "    <tr>\n",
       "      <th>4</th>\n",
       "      <td>-1.509965</td>\n",
       "      <td>-0.908614</td>\n",
       "      <td>0.0</td>\n",
       "      <td>0.0</td>\n",
       "      <td>0.0</td>\n",
       "      <td>0.0</td>\n",
       "      <td>0.0</td>\n",
       "      <td>0.622209</td>\n",
       "    </tr>\n",
       "  </tbody>\n",
       "</table>\n",
       "</div>"
      ]
     },
     "execution_count": 104,
     "metadata": {},
     "output_type": "execute_result"
    }
   ],
   "execution_count": 104
  },
  {
   "metadata": {
    "ExecuteTime": {
     "end_time": "2025-03-23T01:49:22.736689Z",
     "start_time": "2025-03-23T01:49:22.715944Z"
    }
   },
   "cell_type": "code",
   "source": "X_transformed.tail()",
   "id": "1fb3e8702c7a16ce",
   "outputs": [
    {
     "data": {
      "text/plain": [
       "      no_outliers__age  no_outliers__children  categorical__smoker_yes  \\\n",
       "1333          1.765289               0.751079                      0.0   \n",
       "1334          1.765289              -0.908614                      1.0   \n",
       "1335          1.765289              -0.908614                      0.0   \n",
       "1336          1.765289               0.751079                      1.0   \n",
       "1337          1.765289              -0.908614                      1.0   \n",
       "\n",
       "      categorical__region_northwest  categorical__region_southeast  \\\n",
       "1333                            0.0                            0.0   \n",
       "1334                            1.0                            0.0   \n",
       "1335                            0.0                            0.0   \n",
       "1336                            0.0                            1.0   \n",
       "1337                            0.0                            1.0   \n",
       "\n",
       "      categorical__region_southwest  categorical__gender_male  remainder__bmi  \n",
       "1333                            0.0                       0.0        0.169693  \n",
       "1334                            0.0                       0.0       -0.418577  \n",
       "1335                            0.0                       1.0       -0.475141  \n",
       "1336                            0.0                       1.0        0.781185  \n",
       "1337                            0.0                       1.0       -0.790712  "
      ],
      "text/html": [
       "<div>\n",
       "<style scoped>\n",
       "    .dataframe tbody tr th:only-of-type {\n",
       "        vertical-align: middle;\n",
       "    }\n",
       "\n",
       "    .dataframe tbody tr th {\n",
       "        vertical-align: top;\n",
       "    }\n",
       "\n",
       "    .dataframe thead th {\n",
       "        text-align: right;\n",
       "    }\n",
       "</style>\n",
       "<table border=\"1\" class=\"dataframe\">\n",
       "  <thead>\n",
       "    <tr style=\"text-align: right;\">\n",
       "      <th></th>\n",
       "      <th>no_outliers__age</th>\n",
       "      <th>no_outliers__children</th>\n",
       "      <th>categorical__smoker_yes</th>\n",
       "      <th>categorical__region_northwest</th>\n",
       "      <th>categorical__region_southeast</th>\n",
       "      <th>categorical__region_southwest</th>\n",
       "      <th>categorical__gender_male</th>\n",
       "      <th>remainder__bmi</th>\n",
       "    </tr>\n",
       "  </thead>\n",
       "  <tbody>\n",
       "    <tr>\n",
       "      <th>1333</th>\n",
       "      <td>1.765289</td>\n",
       "      <td>0.751079</td>\n",
       "      <td>0.0</td>\n",
       "      <td>0.0</td>\n",
       "      <td>0.0</td>\n",
       "      <td>0.0</td>\n",
       "      <td>0.0</td>\n",
       "      <td>0.169693</td>\n",
       "    </tr>\n",
       "    <tr>\n",
       "      <th>1334</th>\n",
       "      <td>1.765289</td>\n",
       "      <td>-0.908614</td>\n",
       "      <td>1.0</td>\n",
       "      <td>1.0</td>\n",
       "      <td>0.0</td>\n",
       "      <td>0.0</td>\n",
       "      <td>0.0</td>\n",
       "      <td>-0.418577</td>\n",
       "    </tr>\n",
       "    <tr>\n",
       "      <th>1335</th>\n",
       "      <td>1.765289</td>\n",
       "      <td>-0.908614</td>\n",
       "      <td>0.0</td>\n",
       "      <td>0.0</td>\n",
       "      <td>0.0</td>\n",
       "      <td>0.0</td>\n",
       "      <td>1.0</td>\n",
       "      <td>-0.475141</td>\n",
       "    </tr>\n",
       "    <tr>\n",
       "      <th>1336</th>\n",
       "      <td>1.765289</td>\n",
       "      <td>0.751079</td>\n",
       "      <td>1.0</td>\n",
       "      <td>0.0</td>\n",
       "      <td>1.0</td>\n",
       "      <td>0.0</td>\n",
       "      <td>1.0</td>\n",
       "      <td>0.781185</td>\n",
       "    </tr>\n",
       "    <tr>\n",
       "      <th>1337</th>\n",
       "      <td>1.765289</td>\n",
       "      <td>-0.908614</td>\n",
       "      <td>1.0</td>\n",
       "      <td>0.0</td>\n",
       "      <td>1.0</td>\n",
       "      <td>0.0</td>\n",
       "      <td>1.0</td>\n",
       "      <td>-0.790712</td>\n",
       "    </tr>\n",
       "  </tbody>\n",
       "</table>\n",
       "</div>"
      ]
     },
     "execution_count": 105,
     "metadata": {},
     "output_type": "execute_result"
    }
   ],
   "execution_count": 105
  },
  {
   "metadata": {
    "ExecuteTime": {
     "end_time": "2025-03-23T01:49:22.909909Z",
     "start_time": "2025-03-23T01:49:22.894233Z"
    }
   },
   "cell_type": "code",
   "source": "X_train, X_test, y_train, y_test = train_test_split(X, y, test_size=0.2, shuffle=True)",
   "id": "a2111aaf6c6b4cb",
   "outputs": [],
   "execution_count": 106
  },
  {
   "metadata": {},
   "cell_type": "markdown",
   "source": "## Model Training",
   "id": "619ee80fcda93277"
  },
  {
   "metadata": {},
   "cell_type": "markdown",
   "source": "### Random Forest",
   "id": "ac814e2adb9cd5b6"
  },
  {
   "metadata": {
    "ExecuteTime": {
     "end_time": "2025-03-23T01:49:23.031989Z",
     "start_time": "2025-03-23T01:49:23.024459Z"
    }
   },
   "cell_type": "code",
   "source": [
    "pipe = Pipeline(steps=[('preprocess', preprocess_pipeline),\n",
    "                       ('reduce_dim', 'passthrough'),\n",
    "                       ('ttr', TransformedTargetRegressor(\n",
    "                           regressor=RandomForestRegressor(n_estimators=10),\n",
    "                           func=np.log,\n",
    "                           inverse_func=np.exp)\n",
    "                        )\n",
    "                       ]\n",
    "                )"
   ],
   "id": "dba86b967f6be8b8",
   "outputs": [],
   "execution_count": 107
  },
  {
   "metadata": {
    "ExecuteTime": {
     "end_time": "2025-03-23T01:49:40.257676Z",
     "start_time": "2025-03-23T01:49:23.211361Z"
    }
   },
   "cell_type": "code",
   "source": [
    "N_FEATURES_OPTIONS = [2, 6, 8]\n",
    "MAX_DEPTH_OPTIONS = [2, 4, 6, 8]\n",
    "\n",
    "param_grid = [\n",
    "    {\n",
    "        'reduce_dim': [PCA(iterated_power=7)],\n",
    "        'reduce_dim__n_components': N_FEATURES_OPTIONS,\n",
    "        'ttr__regressor__max_depth': MAX_DEPTH_OPTIONS\n",
    "    },\n",
    "    {\n",
    "        'reduce_dim': [RFE(svm.SVR(kernel='linear', gamma='auto')), RFE(LinearRegression())],\n",
    "        'reduce_dim__n_features_to_select': N_FEATURES_OPTIONS,\n",
    "        'ttr__regressor__max_depth': MAX_DEPTH_OPTIONS\n",
    "    }\n",
    "]\n",
    "\n",
    "search = GridSearchCV(pipe, param_grid, n_jobs=-1, cv=5, refit=True)\n",
    "search.fit(X_train, y_train)\n",
    "\n",
    "print(\"Best CV score = %0.3f:\" % search.best_score_)\n",
    "print(\"Best parameters: \", search.best_params_)\n",
    "\n",
    "# store the best params and best model for later use\n",
    "RF_best_params = search.best_params_\n",
    "RF_best_model = search.best_estimator_"
   ],
   "id": "db66dd16518082a3",
   "outputs": [
    {
     "name": "stdout",
     "output_type": "stream",
     "text": [
      "Best CV score = 0.861:\n",
      "Best parameters:  {'reduce_dim': RFE(estimator=SVR(gamma='auto', kernel='linear')), 'reduce_dim__n_features_to_select': 6, 'ttr__regressor__max_depth': 4}\n"
     ]
    }
   ],
   "execution_count": 108
  },
  {
   "metadata": {},
   "cell_type": "markdown",
   "source": "### Linear Regression",
   "id": "fb73d782104f475e"
  },
  {
   "metadata": {
    "ExecuteTime": {
     "end_time": "2025-03-23T01:49:40.503503Z",
     "start_time": "2025-03-23T01:49:40.495307Z"
    }
   },
   "cell_type": "code",
   "source": [
    "pipe = Pipeline(steps=[('preprocess', preprocess_pipeline),\n",
    "                       ('reduce_dim', 'passthrough'),\n",
    "                       ('ttr', TransformedTargetRegressor(\n",
    "                           regressor=LinearRegression(),\n",
    "                           func=np.log,\n",
    "                           inverse_func=np.exp)\n",
    "                        )\n",
    "                       ]\n",
    "                )"
   ],
   "id": "8d64e7ab75c97229",
   "outputs": [],
   "execution_count": 109
  },
  {
   "metadata": {
    "ExecuteTime": {
     "end_time": "2025-03-23T01:49:44.626135Z",
     "start_time": "2025-03-23T01:49:40.759408Z"
    }
   },
   "cell_type": "code",
   "source": [
    "N_FEATURES_OPTIONS = [2, 6, 8]\n",
    "FIT_INTERCEPT_OPTIONS = [False, True]\n",
    "\n",
    "param_grid = [\n",
    "    {\n",
    "        'reduce_dim': [PCA(iterated_power=7)],\n",
    "        'reduce_dim__n_components': N_FEATURES_OPTIONS,\n",
    "        'ttr__regressor__fit_intercept': FIT_INTERCEPT_OPTIONS\n",
    "    },\n",
    "    {\n",
    "        'reduce_dim': [RFE(svm.SVR(kernel='linear', gamma='auto')), RFE(LinearRegression())],\n",
    "        'reduce_dim__n_features_to_select': N_FEATURES_OPTIONS,\n",
    "        'ttr__regressor__fit_intercept': FIT_INTERCEPT_OPTIONS\n",
    "    }\n",
    "]\n",
    "\n",
    "search = GridSearchCV(pipe, param_grid, n_jobs=-1, cv=5, refit=True)\n",
    "search.fit(X_train, y_train)\n",
    "print(\"Best CV score = %0.3f:\" % search.best_score_)\n",
    "print(\"Best parameters: \", search.best_params_)\n",
    "\n",
    "LR_best_params = search.best_params_\n",
    "LR_best_model = search.best_estimator_"
   ],
   "id": "1ae584ea78af7fa2",
   "outputs": [
    {
     "name": "stdout",
     "output_type": "stream",
     "text": [
      "Best CV score = 0.530:\n",
      "Best parameters:  {'reduce_dim': RFE(estimator=LinearRegression()), 'reduce_dim__n_features_to_select': 6, 'ttr__regressor__fit_intercept': True}\n"
     ]
    }
   ],
   "execution_count": 110
  },
  {
   "metadata": {},
   "cell_type": "markdown",
   "source": "### Support Vector Regression",
   "id": "4cd66d572a9a6d20"
  },
  {
   "metadata": {
    "ExecuteTime": {
     "end_time": "2025-03-23T01:49:45.049235Z",
     "start_time": "2025-03-23T01:49:45.035657Z"
    }
   },
   "cell_type": "code",
   "source": [
    "# Support Vector Regression\n",
    "from sklearn.svm import SVR\n",
    "\n",
    "pipe = Pipeline(steps=[('preprocess', preprocess_pipeline),\n",
    "                       ('reduce_dim', 'passthrough'),\n",
    "                       ('ttr', TransformedTargetRegressor(\n",
    "                           regressor=SVR(),\n",
    "                           func=np.log,\n",
    "                           inverse_func=np.exp)\n",
    "                        )\n",
    "                       ]\n",
    "                )"
   ],
   "id": "72c8d935f69140cb",
   "outputs": [],
   "execution_count": 111
  },
  {
   "metadata": {
    "ExecuteTime": {
     "end_time": "2025-03-23T01:49:55.021629Z",
     "start_time": "2025-03-23T01:49:45.426584Z"
    }
   },
   "cell_type": "code",
   "source": [
    "N_FEATURES_OPTIONS = [2, 6, 8]\n",
    "KERNEL_OPTIONS = ['linear', 'poly', 'rbf', 'sigmoid']\n",
    "\n",
    "param_grid = [\n",
    "    {\n",
    "        'reduce_dim': [PCA(iterated_power=7)],\n",
    "        'reduce_dim__n_components': N_FEATURES_OPTIONS,\n",
    "        'ttr__regressor__kernel': KERNEL_OPTIONS\n",
    "    },\n",
    "    {\n",
    "        'reduce_dim': [RFE(svm.SVR(kernel='linear', gamma='auto')), RFE(LinearRegression())],\n",
    "        'reduce_dim__n_features_to_select': N_FEATURES_OPTIONS,\n",
    "        'ttr__regressor__kernel': KERNEL_OPTIONS\n",
    "    }\n",
    "]\n",
    "\n",
    "search = GridSearchCV(pipe, param_grid, n_jobs=-1, cv=5, refit=True)\n",
    "search.fit(X_train, y_train)\n",
    "print(\"Best CV score = %0.3f:\" % search.best_score_)\n",
    "print(\"Best parameters: \", search.best_params_)\n",
    "\n",
    "SVR_best_params = search.best_params_\n",
    "SVR_best_model = search.best_estimator_"
   ],
   "id": "69ede0705c8788f",
   "outputs": [
    {
     "name": "stdout",
     "output_type": "stream",
     "text": [
      "Best CV score = 0.824:\n",
      "Best parameters:  {'reduce_dim': RFE(estimator=SVR(gamma='auto', kernel='linear')), 'reduce_dim__n_features_to_select': 6, 'ttr__regressor__kernel': 'rbf'}\n"
     ]
    }
   ],
   "execution_count": 112
  },
  {
   "metadata": {},
   "cell_type": "markdown",
   "source": "### Compare the three models",
   "id": "6b370abec0a3f4a1"
  },
  {
   "metadata": {
    "ExecuteTime": {
     "end_time": "2025-03-22T20:24:28.041499Z",
     "start_time": "2025-03-22T20:24:28.035182Z"
    }
   },
   "cell_type": "code",
   "source": [
    "def evaluate_model(X_test, y_test, model):\n",
    "    _predicted_values = model.predict(X_test)\n",
    "\n",
    "    _mse = mean_squared_error(y_test, _predicted_values)\n",
    "    _mae = mean_absolute_error(y_test, _predicted_values)\n",
    "    _r2 = r2_score(y_test, _predicted_values)\n",
    "\n",
    "    return _mse, _mae, _r2"
   ],
   "id": "f3d2ad3bad7ee19d",
   "outputs": [],
   "execution_count": 71
  },
  {
   "metadata": {
    "ExecuteTime": {
     "end_time": "2025-03-22T20:24:28.318197Z",
     "start_time": "2025-03-22T20:24:28.270151Z"
    }
   },
   "cell_type": "code",
   "source": [
    "RF_mse, RF_mae, RF_r2 = evaluate_model(X_test, y_test, RF_best_model)\n",
    "LR_mse, LR_mae, LR_r2 = evaluate_model(X_test, y_test, LR_best_model)\n",
    "SVR_mse, SVR_mae, SVR_r2 = evaluate_model(X_test, y_test, SVR_best_model)"
   ],
   "id": "5723271f2273e00e",
   "outputs": [],
   "execution_count": 72
  },
  {
   "metadata": {
    "ExecuteTime": {
     "end_time": "2025-03-22T20:24:28.698168Z",
     "start_time": "2025-03-22T20:24:28.331718Z"
    }
   },
   "cell_type": "code",
   "source": [
    "df_mse = pd.DataFrame(\n",
    "    {'Random Forest': [RF_mse], 'Linear Regression': [LR_mse], 'Support Vector Regression': [SVR_mse]})\n",
    "df_mae = pd.DataFrame(\n",
    "    {'Random Forest': [RF_mae], 'Linear Regression': [LR_mae], 'Support Vector Regression': [SVR_mae]})\n",
    "df_r2 = pd.DataFrame({'Random Forest': [RF_r2], 'Linear Regression': [LR_r2], 'Support Vector Regression': [SVR_r2]})\n",
    "\n",
    "fig, ax = plt.subplots(1, 3, figsize=(20, 5))\n",
    "\n",
    "df_mse.plot(kind='bar', ax=ax[0], title='Mean Squared Error')\n",
    "df_mae.plot(kind='bar', ax=ax[1], title='Mean Absolute Error')\n",
    "df_r2.plot(kind='bar', ax=ax[2], title='R2 Score')\n",
    "\n",
    "plt.show()"
   ],
   "id": "4244d8f9113c3209",
   "outputs": [
    {
     "data": {
      "text/plain": [
       "<Figure size 2000x500 with 3 Axes>"
      ],
      "image/png": "[encoded data removed]"
     },
     "metadata": {},
     "output_type": "display_data"
    }
   ],
   "execution_count": 73
  },
  {
   "metadata": {},
   "cell_type": "markdown",
   "source": "### Evaluation",
   "id": "57d5d5ca96ca5e86"
  },
  {
   "metadata": {},
   "cell_type": "markdown",
   "source": [
    "Some explanation about the models:\n",
    "- Random Forest is a classification algorithm based on many decision trees trained on subsets of the data. Then each tree makes a vote on the classification.\n",
    "- Linear Regression is a regression algorithm that calculates the probability that a given inpt belongs to a certain category.\n",
    "- Support Vector Machine tries to find the optimal hyperplane that best separates the classes in the feature space. \n",
    "\n",
    "### Result from the diagram\n",
    "\n",
    "In the Mean Squared Error (MSE) Linear Regression performs worse. It has the highest rate of error between the actual and predicted classifications. The best performing is Random Forests with roughly 28% and a little behind SVM with around 31%. \n",
    "\n",
    "Mean Absolute Error (MAE) is the average of the absolute differences between the actual and predicted values. Similarly Linear Regression performed worst, by incorrectly predicting on average by 4,000, while Random Forest on Average is off by ~2,500. SVM is a little behind by ~2,700.\n",
    "\n",
    "R2 Score is the proportion of varience in the dependent variable that is predictable from the independent variable. In this case the higher the better. Random Forest is best performing with little over 0.8 and little behind it is SVM. The worst performing is Linear Regression, meaning it is not able to predict the dependent variable.\n",
    "\n",
    "Overall, Random Forest is the best performing model and slightly worse is SVM. "
   ],
   "id": "4c5dcdae844199a3"
  },
  {
   "metadata": {},
   "cell_type": "markdown",
   "source": "## Train a final model",
   "id": "d932f95b66b6a570"
  },
  {
   "metadata": {},
   "cell_type": "markdown",
   "source": "Add two dimensionality-reduction methods which are not used in CS5062 - Lab5 - Regression and Dimensionality Reduction.ipynb to the training pipelines for insurance.csv. Aim at dimensionality reduction techniques that are sufficiently different from the ones used in the example notebook. Draw conclusions from the results you observe in a markdown cell (max 250 words in a markdown cell).\n",
   "id": "e47c84d4c3e264a3"
  },
  {
   "metadata": {
    "ExecuteTime": {
     "end_time": "2025-03-23T01:49:55.767494Z",
     "start_time": "2025-03-23T01:49:55.191225Z"
    }
   },
   "cell_type": "code",
   "source": [
    "from sklearn.pipeline import make_pipeline\n",
    "\n",
    "\n",
    "# function to remove the string 'regresson__' from the names of the best parameters\n",
    "def transform(dict, prefix):\n",
    "    dict_prefix = {key:value for key,value in dict.items() if prefix in key}\n",
    "    return {key.replace(prefix,''):value for key,value in dict_prefix.items()}\n",
    "\n",
    "pipe = make_pipeline(preprocess_pipeline, \n",
    "                     RF_best_params.get('reduce_dim'),\n",
    "                     RandomForestRegressor(n_estimators=10, **transform(RF_best_params, 'regresson__')))\n",
    "\n",
    "final_model =pipe.fit(X, y)"
   ],
   "id": "836e497c407179fd",
   "outputs": [],
   "execution_count": 113
  },
  {
   "metadata": {
    "ExecuteTime": {
     "end_time": "2025-03-23T01:49:55.947397Z",
     "start_time": "2025-03-23T01:49:55.930865Z"
    }
   },
   "cell_type": "code",
   "source": [
    "import pickle\n",
    "\n",
    "filename = 'final_model.sav'\n",
    "pickle.dump(final_model, open(filename, 'wb'))"
   ],
   "id": "8c4240cf84801440",
   "outputs": [],
   "execution_count": 114
  },
  {
   "metadata": {},
   "cell_type": "markdown",
   "source": "## Dimensionality Reduction",
   "id": "fb38ae9c21d611ea"
  },
  {
   "metadata": {},
   "cell_type": "markdown",
   "source": [
    "The two dimension reductions I have chosen to go with is:\n",
    "- Gaussian Random Projection\n",
    "- Feature Agglomeration"
   ],
   "id": "78eacda8dfdc5fc3"
  },
  {
   "metadata": {},
   "cell_type": "markdown",
   "source": "## Random Forest",
   "id": "e29d2142af5ce8fe"
  },
  {
   "metadata": {
    "ExecuteTime": {
     "end_time": "2025-03-22T20:24:28.913950Z",
     "start_time": "2025-03-22T20:24:28.908944Z"
    }
   },
   "cell_type": "code",
   "source": [
    "pipe = Pipeline(steps=[('preprocess', preprocess_pipeline),\n",
    "                       ('reduce_dim', 'passthrough'),\n",
    "                       ('ttr', TransformedTargetRegressor(\n",
    "                           regressor=RandomForestRegressor(n_estimators=10),\n",
    "                           func=np.log,\n",
    "                           inverse_func=np.exp)\n",
    "                        )\n",
    "                       ]\n",
    "                )"
   ],
   "id": "bbccab623492688d",
   "outputs": [],
   "execution_count": 74
  },
  {
   "metadata": {
    "ExecuteTime": {
     "end_time": "2025-03-22T20:24:34.754584Z",
     "start_time": "2025-03-22T20:24:29.022117Z"
    }
   },
   "cell_type": "code",
   "source": [
    "from sklearn.random_projection import GaussianRandomProjection\n",
    "from sklearn.cluster import FeatureAgglomeration\n",
    "\n",
    "N_FEATURES_OPTIONS = [2, 6, 8]\n",
    "BATCH_SIZE_OPTIONS = [5, 10, 20]\n",
    "\n",
    "param_grid = [\n",
    "    {\n",
    "        'reduce_dim': [PCA(iterated_power=7)],\n",
    "        'reduce_dim__n_components': N_FEATURES_OPTIONS,\n",
    "        'reduce_dim__whiten': [True, False]\n",
    "    },\n",
    "    {\n",
    "        'reduce_dim': [RFE(svm.SVR(kernel='linear', gamma='auto')), RFE(LinearRegression())],\n",
    "        'reduce_dim__n_features_to_select': N_FEATURES_OPTIONS,\n",
    "        'ttr__regressor__max_depth': MAX_DEPTH_OPTIONS\n",
    "    },\n",
    "    {\n",
    "        'reduce_dim': [GaussianRandomProjection()],\n",
    "        'reduce_dim__n_components': N_FEATURES_OPTIONS,\n",
    "        'reduce_dim__eps': [0.1, 0.2, 0.3]\n",
    "    },\n",
    "    {\n",
    "        'reduce_dim': [FeatureAgglomeration()],\n",
    "        'reduce_dim__n_clusters': N_FEATURES_OPTIONS,\n",
    "        'reduce_dim__linkage': ['ward', 'complete', 'average']\n",
    "    }\n",
    "\n",
    "]\n",
    "\n",
    "search = GridSearchCV(pipe, param_grid, n_jobs=-1, cv=5, refit=True)\n",
    "search.fit(X_train, y_train)\n",
    "\n",
    "print(\"Best CV score = %0.3f:\" % search.best_score_)\n",
    "print(\"Best parameters: \", search.best_params_)\n",
    "\n",
    "reduced_RF_best_params = search.best_params_\n",
    "reduced_RF_best_model = search.best_estimator_"
   ],
   "id": "e30943f5de1bc059",
   "outputs": [
    {
     "name": "stdout",
     "output_type": "stream",
     "text": [
      "Best CV score = 0.862:\n",
      "Best parameters:  {'reduce_dim': RFE(estimator=SVR(gamma='auto', kernel='linear')), 'reduce_dim__n_features_to_select': 8, 'ttr__regressor__max_depth': 4}\n"
     ]
    }
   ],
   "execution_count": 75
  },
  {
   "metadata": {
    "ExecuteTime": {
     "end_time": "2025-03-22T20:24:34.940494Z",
     "start_time": "2025-03-22T20:24:34.931974Z"
    }
   },
   "cell_type": "code",
   "source": [
    "pipe = Pipeline(steps=[('preprocess', preprocess_pipeline),\n",
    "                       ('reduce_dim', 'passthrough'),\n",
    "                       ('ttr', TransformedTargetRegressor(\n",
    "                           regressor=LinearRegression(),\n",
    "                           func=np.log,\n",
    "                           inverse_func=np.exp)\n",
    "                        )\n",
    "                       ]\n",
    "                )"
   ],
   "id": "87df0113f62e7c33",
   "outputs": [],
   "execution_count": 76
  },
  {
   "metadata": {
    "ExecuteTime": {
     "end_time": "2025-03-22T20:26:20.096664Z",
     "start_time": "2025-03-22T20:26:12.543943Z"
    }
   },
   "cell_type": "code",
   "source": [
    "N_FEATURES_OPTIONS = [2, 6, 8]\n",
    "KERNEL_OPTIONS = ['linear', 'poly', 'rbf', 'sigmoid']\n",
    "MAX_DEPTH_OPTIONS = [2, 4, 6, 8]\n",
    "\n",
    "param_grid = [\n",
    "    {\n",
    "        'reduce_dim': [PCA(iterated_power=7)],\n",
    "        'reduce_dim__n_components': N_FEATURES_OPTIONS,\n",
    "        'reduce_dim__whiten': [True, False]\n",
    "    },\n",
    "    {\n",
    "        'reduce_dim': [RFE(svm.SVR(kernel='linear', gamma='auto')), RFE(LinearRegression())],\n",
    "        'reduce_dim__n_features_to_select': N_FEATURES_OPTIONS,\n",
    "    },\n",
    "    {\n",
    "        'reduce_dim': [GaussianRandomProjection()],\n",
    "        'reduce_dim__n_components': N_FEATURES_OPTIONS,\n",
    "        'reduce_dim__eps': [0.1, 0.2, 0.3]\n",
    "    },\n",
    "    {\n",
    "        'reduce_dim': [FeatureAgglomeration()],\n",
    "        'reduce_dim__n_clusters': N_FEATURES_OPTIONS,\n",
    "        'reduce_dim__linkage': ['ward', 'complete', 'average']\n",
    "    }\n",
    "]\n",
    "\n",
    "search = GridSearchCV(pipe, param_grid, n_jobs=-1, cv=5, refit=True)\n",
    "search.fit(X_train, y_train)\n",
    "print(\"Best CV score = %0.3f:\" % search.best_score_)\n",
    "print(\"Best  parameters: \", search.best_params_)\n",
    "\n",
    "reduced_LR_best_params = search.best_params_\n",
    "reduced_LR_best_model = search.best_estimator_"
   ],
   "id": "2451d16d53fd19a",
   "outputs": [
    {
     "name": "stdout",
     "output_type": "stream",
     "text": [
      "Best CV score = 0.537:\n",
      "Best  parameters:  {'reduce_dim': GaussianRandomProjection(), 'reduce_dim__eps': 0.1, 'reduce_dim__n_components': 6}\n"
     ]
    },
    {
     "name": "stderr",
     "output_type": "stream",
     "text": [
      "C:\\Users\\kmila\\miniconda3\\Lib\\site-packages\\numpy\\ma\\core.py:2820: RuntimeWarning: invalid value encountered in cast\n",
      "  _data = np.array(data, dtype=dtype, copy=copy,\n"
     ]
    }
   ],
   "execution_count": 78
  },
  {
   "metadata": {
    "ExecuteTime": {
     "end_time": "2025-03-22T20:26:27.444685Z",
     "start_time": "2025-03-22T20:26:27.433685Z"
    }
   },
   "cell_type": "code",
   "source": [
    "pipe = Pipeline(steps=[('preprocess', preprocess_pipeline),\n",
    "                       ('reduce_dim', 'passthrough'),\n",
    "                       ('ttr', TransformedTargetRegressor(\n",
    "                           regressor=SVR(),\n",
    "                           func=np.log,\n",
    "                           inverse_func=np.exp)\n",
    "                        )\n",
    "                       ]\n",
    "                )"
   ],
   "id": "805223ef47b885d8",
   "outputs": [],
   "execution_count": 79
  },
  {
   "metadata": {
    "ExecuteTime": {
     "end_time": "2025-03-22T20:26:43.543907Z",
     "start_time": "2025-03-22T20:26:35.598007Z"
    }
   },
   "cell_type": "code",
   "source": [
    "N_FEATURES_OPTIONS = [2, 6, 8]\n",
    "KERNEL_OPTIONS = ['linear', 'poly', 'rbf', 'sigmoid']\n",
    "\n",
    "param_grid = [\n",
    "    {\n",
    "        'reduce_dim': [PCA(iterated_power=7)],\n",
    "        'reduce_dim__n_components': N_FEATURES_OPTIONS,\n",
    "        'reduce_dim__whiten': [True, False]\n",
    "    },\n",
    "    {\n",
    "        'reduce_dim': [RFE(svm.SVR(kernel='linear', gamma='auto')), RFE(LinearRegression())],\n",
    "        'reduce_dim__n_features_to_select': N_FEATURES_OPTIONS,\n",
    "    },\n",
    "    {\n",
    "        'reduce_dim': [GaussianRandomProjection()],\n",
    "        'reduce_dim__n_components': N_FEATURES_OPTIONS,\n",
    "        'reduce_dim__eps': [0.1, 0.2, 0.3]\n",
    "    },\n",
    "    {\n",
    "        'reduce_dim': [FeatureAgglomeration()],\n",
    "        'reduce_dim__n_clusters': N_FEATURES_OPTIONS,\n",
    "        'reduce_dim__linkage': ['ward', 'complete', 'average']\n",
    "    }\n",
    "]\n",
    "\n",
    "search = GridSearchCV(pipe, param_grid, n_jobs=-1, cv=5, refit=True)\n",
    "search.fit(X_train, y_train)\n",
    "print(\"Best CV score = %0.3f:\" % search.best_score_)\n",
    "print(\"Best  parameters: \", search.best_params_)\n",
    "\n",
    "reduced_SVR_best_params = search.best_params_\n",
    "reduced_SVR_best_model = search.best_estimator_"
   ],
   "id": "b809ba2b553f597",
   "outputs": [
    {
     "name": "stdout",
     "output_type": "stream",
     "text": [
      "Best CV score = 0.834:\n",
      "Best  parameters:  {'reduce_dim': RFE(estimator=LinearRegression()), 'reduce_dim__n_features_to_select': 6}\n"
     ]
    }
   ],
   "execution_count": 81
  },
  {
   "metadata": {},
   "cell_type": "markdown",
   "source": "## Compare the result of the 3 models",
   "id": "5a1c429b4fba7cc3"
  },
  {
   "metadata": {
    "ExecuteTime": {
     "end_time": "2025-03-22T20:26:45.249629Z",
     "start_time": "2025-03-22T20:26:45.118106Z"
    }
   },
   "cell_type": "code",
   "source": [
    "RF_mse, RF_mae, RF_r2 = evaluate_model(X_test, y_test, reduced_RF_best_model)\n",
    "LR_mse, LR_mae, LR_r2 = evaluate_model(X_test, y_test, reduced_LR_best_model)\n",
    "SVR_mse, SVR_mae, SVR_r2 = evaluate_model(X_test, y_test, reduced_SVR_best_model)"
   ],
   "id": "840e87cd89008685",
   "outputs": [],
   "execution_count": 82
  },
  {
   "metadata": {
    "ExecuteTime": {
     "end_time": "2025-03-22T20:26:48.254553Z",
     "start_time": "2025-03-22T20:26:47.854994Z"
    }
   },
   "cell_type": "code",
   "source": [
    "df_mse = pd.DataFrame(\n",
    "    {'Random Forest': [RF_mse], 'Linear Regression': [LR_mse], 'Support Vector Regression': [SVR_mse]})\n",
    "df_mae = pd.DataFrame(\n",
    "    {'Random Forest': [RF_mae], 'Linear Regression': [LR_mae], 'Support Vector Regression': [SVR_mae]})\n",
    "df_r2 = pd.DataFrame({'Random Forest': [RF_r2], 'Linear Regression': [LR_r2], 'Support Vector Regression': [SVR_r2]})\n",
    "\n",
    "fig, ax = plt.subplots(1, 3, figsize=(20, 5))\n",
    "\n",
    "df_mse.plot(kind='bar', ax=ax[0], title='Mean Squared Error')\n",
    "df_mae.plot(kind='bar', ax=ax[1], title='Mean Absolute Error')\n",
    "df_r2.plot(kind='bar', ax=ax[2], title='R2 Score')\n",
    "\n",
    "plt.show()"
   ],
   "id": "7e4cbf9f166b3d6a",
   "outputs": [
    {
     "data": {
      "text/plain": [
       "<Figure size 2000x500 with 3 Axes>"
      ],
      "image/png": "[encoded data removed]"
     },
     "metadata": {},
     "output_type": "display_data"
    }
   ],
   "execution_count": 83
  },
  {
   "metadata": {},
   "cell_type": "markdown",
   "source": [
    "## Conclusion\n",
    "\n",
    "After adding the two dimensionality reductions, the results are very similar to the previous result. Random Forest still performs as the best model, with SVM slightly behind. Linear Regression is still performing the worst.\n",
    "\n",
    "Keynotes:\n",
    "In R2 score, Random Forest appear to perform slightly better than before with the new dimensionality reduction. \n",
    "\n",
    "In MEA Linear Regression performs worse than before the reduction, by ~3,000. Which means with the fewer features it is not able to predict the dependent variable.\n",
    "\n",
    "In MSE Random Forests performs slightly better than before the reduction. "
   ],
   "id": "393730d3abc490c5"
  },
  {
   "metadata": {},
   "cell_type": "markdown",
   "source": "# Train and save final model",
   "id": "74a5dbed61c6520e"
  },
  {
   "metadata": {
    "ExecuteTime": {
     "end_time": "2025-03-23T01:47:42.433981Z",
     "start_time": "2025-03-23T01:47:41.244873Z"
    }
   },
   "cell_type": "code",
   "source": [
    "from sklearn.pipeline import make_pipeline\n",
    "\n",
    "\n",
    "# function to remove the string 'regresson__' from the names of the best parameters\n",
    "def transform(dict, prefix):\n",
    "    dict_prefix = {key:value for key,value in dict.items() if prefix in key}\n",
    "    return {key.replace(prefix,''):value for key,value in dict_prefix.items()}\n",
    "\n",
    "pipe = make_pipeline(preprocess_pipeline, \n",
    "                     reduced_RF_best_params.get('reduce_dim'),\n",
    "                     RandomForestRegressor(n_estimators=10, **transform(reduced_RF_best_params, 'regresson__')))\n",
    "\n",
    "final_model =pipe.fit(X, y)"
   ],
   "id": "f28f4b3fa520d2f0",
   "outputs": [],
   "execution_count": 84
  },
  {
   "metadata": {
    "ExecuteTime": {
     "end_time": "2025-03-23T01:48:21.484171Z",
     "start_time": "2025-03-23T01:48:21.468175Z"
    }
   },
   "cell_type": "code",
   "source": [
    "import pickle\n",
    "\n",
    "filename = 'reduced_final_model.sav'\n",
    "pickle.dump(final_model, open(filename, 'wb'))"
   ],
   "id": "887f9da07804a90a",
   "outputs": [],
   "execution_count": 86
  }
 ],
 "metadata": {
  "kernelspec": {
   "display_name": "Python 3",
   "language": "python",
   "name": "python3"
  },
  "language_info": {
   "codemirror_mode": {
    "name": "ipython",
    "version": 2
   },
   "file_extension": ".py",
   "mimetype": "text/x-python",
   "name": "python",
   "nbconvert_exporter": "python",
   "pygments_lexer": "ipython2",
   "version": "2.7.6"
  }
 },
 "nbformat": 4,
 "nbformat_minor": 5
}
